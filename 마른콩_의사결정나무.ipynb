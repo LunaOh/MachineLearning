{
  "cells": [
    {
      "cell_type": "markdown",
      "metadata": {
        "id": "view-in-github",
        "colab_type": "text"
      },
      "source": [
        "<a href=\"https://colab.research.google.com/github/LunaOh/MachineLearning/blob/main/%E1%84%86%E1%85%A1%E1%84%85%E1%85%B3%E1%86%AB%E1%84%8F%E1%85%A9%E1%86%BC_%E1%84%8B%E1%85%B4%E1%84%89%E1%85%A1%E1%84%80%E1%85%A7%E1%86%AF%E1%84%8C%E1%85%A5%E1%86%BC%E1%84%82%E1%85%A1%E1%84%86%E1%85%AE.ipynb\" target=\"_parent\"><img src=\"https://colab.research.google.com/assets/colab-badge.svg\" alt=\"Open In Colab\"/></a>"
      ]
    },
    {
      "cell_type": "code",
      "source": [
        "from google.colab import drive\n",
        "drive.mount('/content/drive')"
      ],
      "metadata": {
        "colab": {
          "base_uri": "https://localhost:8080/"
        },
        "id": "LV2GUH_pxh3C",
        "outputId": "8e69705e-6edf-49ba-d528-03af10b104d1"
      },
      "id": "LV2GUH_pxh3C",
      "execution_count": 2,
      "outputs": [
        {
          "output_type": "stream",
          "name": "stdout",
          "text": [
            "Drive already mounted at /content/drive; to attempt to forcibly remount, call drive.mount(\"/content/drive\", force_remount=True).\n"
          ]
        }
      ]
    },
    {
      "cell_type": "code",
      "execution_count": 3,
      "id": "2785d978",
      "metadata": {
        "id": "2785d978"
      },
      "outputs": [],
      "source": [
        "import pandas as pd\n",
        "\n",
        "from sklearn.tree import DecisionTreeClassifier\n",
        "from sklearn.datasets import load_breast_cancer \n",
        "from sklearn.model_selection import train_test_split \n",
        "from sklearn.tree import export_graphviz # tree 시각화\n",
        "# export_graphviz : 의사결정나무에 대한 graphviz dot data 생성하는 함수\n",
        "import graphviz # tree 시각화\n",
        "import sklearn.metrics as mt # 성능지표를 계산\n",
        "from sklearn.model_selection import cross_val_score, cross_validate # 교차검증\n",
        "\n",
        "import warnings\n",
        "warnings.filterwarnings('ignore')"
      ]
    },
    {
      "cell_type": "code",
      "execution_count": 4,
      "id": "2f92f9e7",
      "metadata": {
        "colab": {
          "base_uri": "https://localhost:8080/",
          "height": 270
        },
        "id": "2f92f9e7",
        "outputId": "2836d83b-539f-4699-f32e-5eb09d7a7016"
      },
      "outputs": [
        {
          "output_type": "execute_result",
          "data": {
            "text/plain": [
              "    Area  Perimeter  MajorAxisLength  MinorAxisLength  AspectRation  \\\n",
              "0  28395    610.291       208.178117       173.888747      1.197191   \n",
              "1  28734    638.018       200.524796       182.734419      1.097356   \n",
              "2  29380    624.110       212.826130       175.931143      1.209713   \n",
              "3  30008    645.884       210.557999       182.516516      1.153638   \n",
              "4  30140    620.134       201.847882       190.279279      1.060798   \n",
              "\n",
              "   Eccentricity  ConvexArea  EquivDiameter    Extent  Solidity  roundness  \\\n",
              "0      0.549812       28715     190.141097  0.763923  0.988856   0.958027   \n",
              "1      0.411785       29172     191.272750  0.783968  0.984986   0.887034   \n",
              "2      0.562727       29690     193.410904  0.778113  0.989559   0.947849   \n",
              "3      0.498616       30724     195.467062  0.782681  0.976696   0.903936   \n",
              "4      0.333680       30417     195.896503  0.773098  0.990893   0.984877   \n",
              "\n",
              "   Compactness  ShapeFactor1  ShapeFactor2  ShapeFactor3  ShapeFactor4  Class  \n",
              "0     0.913358      0.007332      0.003147      0.834222      0.998724  SEKER  \n",
              "1     0.953861      0.006979      0.003564      0.909851      0.998430  SEKER  \n",
              "2     0.908774      0.007244      0.003048      0.825871      0.999066  SEKER  \n",
              "3     0.928329      0.007017      0.003215      0.861794      0.994199  SEKER  \n",
              "4     0.970516      0.006697      0.003665      0.941900      0.999166  SEKER  "
            ],
            "text/html": [
              "\n",
              "  <div id=\"df-2ccaa905-683e-40f2-b456-1c68c0ae8c11\">\n",
              "    <div class=\"colab-df-container\">\n",
              "      <div>\n",
              "<style scoped>\n",
              "    .dataframe tbody tr th:only-of-type {\n",
              "        vertical-align: middle;\n",
              "    }\n",
              "\n",
              "    .dataframe tbody tr th {\n",
              "        vertical-align: top;\n",
              "    }\n",
              "\n",
              "    .dataframe thead th {\n",
              "        text-align: right;\n",
              "    }\n",
              "</style>\n",
              "<table border=\"1\" class=\"dataframe\">\n",
              "  <thead>\n",
              "    <tr style=\"text-align: right;\">\n",
              "      <th></th>\n",
              "      <th>Area</th>\n",
              "      <th>Perimeter</th>\n",
              "      <th>MajorAxisLength</th>\n",
              "      <th>MinorAxisLength</th>\n",
              "      <th>AspectRation</th>\n",
              "      <th>Eccentricity</th>\n",
              "      <th>ConvexArea</th>\n",
              "      <th>EquivDiameter</th>\n",
              "      <th>Extent</th>\n",
              "      <th>Solidity</th>\n",
              "      <th>roundness</th>\n",
              "      <th>Compactness</th>\n",
              "      <th>ShapeFactor1</th>\n",
              "      <th>ShapeFactor2</th>\n",
              "      <th>ShapeFactor3</th>\n",
              "      <th>ShapeFactor4</th>\n",
              "      <th>Class</th>\n",
              "    </tr>\n",
              "  </thead>\n",
              "  <tbody>\n",
              "    <tr>\n",
              "      <th>0</th>\n",
              "      <td>28395</td>\n",
              "      <td>610.291</td>\n",
              "      <td>208.178117</td>\n",
              "      <td>173.888747</td>\n",
              "      <td>1.197191</td>\n",
              "      <td>0.549812</td>\n",
              "      <td>28715</td>\n",
              "      <td>190.141097</td>\n",
              "      <td>0.763923</td>\n",
              "      <td>0.988856</td>\n",
              "      <td>0.958027</td>\n",
              "      <td>0.913358</td>\n",
              "      <td>0.007332</td>\n",
              "      <td>0.003147</td>\n",
              "      <td>0.834222</td>\n",
              "      <td>0.998724</td>\n",
              "      <td>SEKER</td>\n",
              "    </tr>\n",
              "    <tr>\n",
              "      <th>1</th>\n",
              "      <td>28734</td>\n",
              "      <td>638.018</td>\n",
              "      <td>200.524796</td>\n",
              "      <td>182.734419</td>\n",
              "      <td>1.097356</td>\n",
              "      <td>0.411785</td>\n",
              "      <td>29172</td>\n",
              "      <td>191.272750</td>\n",
              "      <td>0.783968</td>\n",
              "      <td>0.984986</td>\n",
              "      <td>0.887034</td>\n",
              "      <td>0.953861</td>\n",
              "      <td>0.006979</td>\n",
              "      <td>0.003564</td>\n",
              "      <td>0.909851</td>\n",
              "      <td>0.998430</td>\n",
              "      <td>SEKER</td>\n",
              "    </tr>\n",
              "    <tr>\n",
              "      <th>2</th>\n",
              "      <td>29380</td>\n",
              "      <td>624.110</td>\n",
              "      <td>212.826130</td>\n",
              "      <td>175.931143</td>\n",
              "      <td>1.209713</td>\n",
              "      <td>0.562727</td>\n",
              "      <td>29690</td>\n",
              "      <td>193.410904</td>\n",
              "      <td>0.778113</td>\n",
              "      <td>0.989559</td>\n",
              "      <td>0.947849</td>\n",
              "      <td>0.908774</td>\n",
              "      <td>0.007244</td>\n",
              "      <td>0.003048</td>\n",
              "      <td>0.825871</td>\n",
              "      <td>0.999066</td>\n",
              "      <td>SEKER</td>\n",
              "    </tr>\n",
              "    <tr>\n",
              "      <th>3</th>\n",
              "      <td>30008</td>\n",
              "      <td>645.884</td>\n",
              "      <td>210.557999</td>\n",
              "      <td>182.516516</td>\n",
              "      <td>1.153638</td>\n",
              "      <td>0.498616</td>\n",
              "      <td>30724</td>\n",
              "      <td>195.467062</td>\n",
              "      <td>0.782681</td>\n",
              "      <td>0.976696</td>\n",
              "      <td>0.903936</td>\n",
              "      <td>0.928329</td>\n",
              "      <td>0.007017</td>\n",
              "      <td>0.003215</td>\n",
              "      <td>0.861794</td>\n",
              "      <td>0.994199</td>\n",
              "      <td>SEKER</td>\n",
              "    </tr>\n",
              "    <tr>\n",
              "      <th>4</th>\n",
              "      <td>30140</td>\n",
              "      <td>620.134</td>\n",
              "      <td>201.847882</td>\n",
              "      <td>190.279279</td>\n",
              "      <td>1.060798</td>\n",
              "      <td>0.333680</td>\n",
              "      <td>30417</td>\n",
              "      <td>195.896503</td>\n",
              "      <td>0.773098</td>\n",
              "      <td>0.990893</td>\n",
              "      <td>0.984877</td>\n",
              "      <td>0.970516</td>\n",
              "      <td>0.006697</td>\n",
              "      <td>0.003665</td>\n",
              "      <td>0.941900</td>\n",
              "      <td>0.999166</td>\n",
              "      <td>SEKER</td>\n",
              "    </tr>\n",
              "  </tbody>\n",
              "</table>\n",
              "</div>\n",
              "      <button class=\"colab-df-convert\" onclick=\"convertToInteractive('df-2ccaa905-683e-40f2-b456-1c68c0ae8c11')\"\n",
              "              title=\"Convert this dataframe to an interactive table.\"\n",
              "              style=\"display:none;\">\n",
              "        \n",
              "  <svg xmlns=\"http://www.w3.org/2000/svg\" height=\"24px\"viewBox=\"0 0 24 24\"\n",
              "       width=\"24px\">\n",
              "    <path d=\"M0 0h24v24H0V0z\" fill=\"none\"/>\n",
              "    <path d=\"M18.56 5.44l.94 2.06.94-2.06 2.06-.94-2.06-.94-.94-2.06-.94 2.06-2.06.94zm-11 1L8.5 8.5l.94-2.06 2.06-.94-2.06-.94L8.5 2.5l-.94 2.06-2.06.94zm10 10l.94 2.06.94-2.06 2.06-.94-2.06-.94-.94-2.06-.94 2.06-2.06.94z\"/><path d=\"M17.41 7.96l-1.37-1.37c-.4-.4-.92-.59-1.43-.59-.52 0-1.04.2-1.43.59L10.3 9.45l-7.72 7.72c-.78.78-.78 2.05 0 2.83L4 21.41c.39.39.9.59 1.41.59.51 0 1.02-.2 1.41-.59l7.78-7.78 2.81-2.81c.8-.78.8-2.07 0-2.86zM5.41 20L4 18.59l7.72-7.72 1.47 1.35L5.41 20z\"/>\n",
              "  </svg>\n",
              "      </button>\n",
              "      \n",
              "  <style>\n",
              "    .colab-df-container {\n",
              "      display:flex;\n",
              "      flex-wrap:wrap;\n",
              "      gap: 12px;\n",
              "    }\n",
              "\n",
              "    .colab-df-convert {\n",
              "      background-color: #E8F0FE;\n",
              "      border: none;\n",
              "      border-radius: 50%;\n",
              "      cursor: pointer;\n",
              "      display: none;\n",
              "      fill: #1967D2;\n",
              "      height: 32px;\n",
              "      padding: 0 0 0 0;\n",
              "      width: 32px;\n",
              "    }\n",
              "\n",
              "    .colab-df-convert:hover {\n",
              "      background-color: #E2EBFA;\n",
              "      box-shadow: 0px 1px 2px rgba(60, 64, 67, 0.3), 0px 1px 3px 1px rgba(60, 64, 67, 0.15);\n",
              "      fill: #174EA6;\n",
              "    }\n",
              "\n",
              "    [theme=dark] .colab-df-convert {\n",
              "      background-color: #3B4455;\n",
              "      fill: #D2E3FC;\n",
              "    }\n",
              "\n",
              "    [theme=dark] .colab-df-convert:hover {\n",
              "      background-color: #434B5C;\n",
              "      box-shadow: 0px 1px 3px 1px rgba(0, 0, 0, 0.15);\n",
              "      filter: drop-shadow(0px 1px 2px rgba(0, 0, 0, 0.3));\n",
              "      fill: #FFFFFF;\n",
              "    }\n",
              "  </style>\n",
              "\n",
              "      <script>\n",
              "        const buttonEl =\n",
              "          document.querySelector('#df-2ccaa905-683e-40f2-b456-1c68c0ae8c11 button.colab-df-convert');\n",
              "        buttonEl.style.display =\n",
              "          google.colab.kernel.accessAllowed ? 'block' : 'none';\n",
              "\n",
              "        async function convertToInteractive(key) {\n",
              "          const element = document.querySelector('#df-2ccaa905-683e-40f2-b456-1c68c0ae8c11');\n",
              "          const dataTable =\n",
              "            await google.colab.kernel.invokeFunction('convertToInteractive',\n",
              "                                                     [key], {});\n",
              "          if (!dataTable) return;\n",
              "\n",
              "          const docLinkHtml = 'Like what you see? Visit the ' +\n",
              "            '<a target=\"_blank\" href=https://colab.research.google.com/notebooks/data_table.ipynb>data table notebook</a>'\n",
              "            + ' to learn more about interactive tables.';\n",
              "          element.innerHTML = '';\n",
              "          dataTable['output_type'] = 'display_data';\n",
              "          await google.colab.output.renderOutput(dataTable, element);\n",
              "          const docLink = document.createElement('div');\n",
              "          docLink.innerHTML = docLinkHtml;\n",
              "          element.appendChild(docLink);\n",
              "        }\n",
              "      </script>\n",
              "    </div>\n",
              "  </div>\n",
              "  "
            ]
          },
          "metadata": {},
          "execution_count": 4
        }
      ],
      "source": [
        "df = pd.read_excel('/content/drive/MyDrive/기계학습/Dry_Bean_Dataset.xlsx')\n",
        "df.head()"
      ]
    },
    {
      "cell_type": "code",
      "execution_count": 5,
      "id": "a82e61f6",
      "metadata": {
        "colab": {
          "base_uri": "https://localhost:8080/"
        },
        "id": "a82e61f6",
        "outputId": "d8cf7247-d08f-496b-fb77-0906a435ec30"
      },
      "outputs": [
        {
          "output_type": "stream",
          "name": "stdout",
          "text": [
            "<class 'pandas.core.frame.DataFrame'>\n",
            "RangeIndex: 13611 entries, 0 to 13610\n",
            "Data columns (total 17 columns):\n",
            " #   Column           Non-Null Count  Dtype  \n",
            "---  ------           --------------  -----  \n",
            " 0   Area             13611 non-null  int64  \n",
            " 1   Perimeter        13611 non-null  float64\n",
            " 2   MajorAxisLength  13611 non-null  float64\n",
            " 3   MinorAxisLength  13611 non-null  float64\n",
            " 4   AspectRation     13611 non-null  float64\n",
            " 5   Eccentricity     13611 non-null  float64\n",
            " 6   ConvexArea       13611 non-null  int64  \n",
            " 7   EquivDiameter    13611 non-null  float64\n",
            " 8   Extent           13611 non-null  float64\n",
            " 9   Solidity         13611 non-null  float64\n",
            " 10  roundness        13611 non-null  float64\n",
            " 11  Compactness      13611 non-null  float64\n",
            " 12  ShapeFactor1     13611 non-null  float64\n",
            " 13  ShapeFactor2     13611 non-null  float64\n",
            " 14  ShapeFactor3     13611 non-null  float64\n",
            " 15  ShapeFactor4     13611 non-null  float64\n",
            " 16  Class            13611 non-null  object \n",
            "dtypes: float64(14), int64(2), object(1)\n",
            "memory usage: 1.8+ MB\n"
          ]
        }
      ],
      "source": [
        "df.info()"
      ]
    },
    {
      "cell_type": "code",
      "execution_count": 6,
      "id": "49325a72",
      "metadata": {
        "colab": {
          "base_uri": "https://localhost:8080/"
        },
        "id": "49325a72",
        "outputId": "15629d4d-ce5c-400d-fcc1-686fd7cee322"
      },
      "outputs": [
        {
          "output_type": "execute_result",
          "data": {
            "text/plain": [
              "False"
            ]
          },
          "metadata": {},
          "execution_count": 6
        }
      ],
      "source": [
        "df.isnull().any().any()"
      ]
    },
    {
      "cell_type": "code",
      "execution_count": 7,
      "id": "aa97f55a",
      "metadata": {
        "colab": {
          "base_uri": "https://localhost:8080/"
        },
        "id": "aa97f55a",
        "outputId": "a0d634eb-bb3f-4b0a-9a1c-46425a982851"
      },
      "outputs": [
        {
          "output_type": "execute_result",
          "data": {
            "text/plain": [
              "array(['SEKER', 'BARBUNYA', 'BOMBAY', 'CALI', 'HOROZ', 'SIRA', 'DERMASON'],\n",
              "      dtype=object)"
            ]
          },
          "metadata": {},
          "execution_count": 7
        }
      ],
      "source": [
        "df['Class'].unique()"
      ]
    },
    {
      "cell_type": "code",
      "source": [
        "from sklearn.preprocessing import LabelEncoder\n",
        "\n",
        "le = LabelEncoder()\n",
        "df['Class'] = le.fit_transform(df['Class'])"
      ],
      "metadata": {
        "id": "XEOFuER7aG_d"
      },
      "id": "XEOFuER7aG_d",
      "execution_count": 8,
      "outputs": []
    },
    {
      "cell_type": "code",
      "execution_count": 9,
      "id": "35e5a229",
      "metadata": {
        "colab": {
          "base_uri": "https://localhost:8080/",
          "height": 467
        },
        "id": "35e5a229",
        "outputId": "77702dba-10f5-4901-96da-49047c1c71ee"
      },
      "outputs": [
        {
          "output_type": "execute_result",
          "data": {
            "text/plain": [
              "<Axes: xlabel='Class', ylabel='count'>"
            ]
          },
          "metadata": {},
          "execution_count": 9
        },
        {
          "output_type": "display_data",
          "data": {
            "text/plain": [
              "<Figure size 640x480 with 1 Axes>"
            ],
            "image/png": "[encoded data removed]"
          },
          "metadata": {}
        }
      ],
      "source": [
        "import seaborn as sns\n",
        "sns.countplot(data=df,x='Class')"
      ]
    },
    {
      "cell_type": "code",
      "execution_count": 10,
      "id": "8500c86f",
      "metadata": {
        "id": "8500c86f"
      },
      "outputs": [],
      "source": [
        "y = df['Class']\n",
        "x = df.drop('Class',axis=1)"
      ]
    },
    {
      "cell_type": "code",
      "execution_count": 11,
      "id": "3c5ff4c1",
      "metadata": {
        "id": "3c5ff4c1"
      },
      "outputs": [],
      "source": [
        "x_train, x_test, y_train, y_test = train_test_split(x, y, test_size=0.7, random_state=2023)"
      ]
    },
    {
      "cell_type": "code",
      "source": [
        "from imblearn.over_sampling import SMOTE\n",
        "\n",
        "smote = SMOTE(random_state=2023)\n",
        "\n",
        "x_train_resampled, y_train_resampled = smote.fit_resample(x_train, y_train)\n",
        "\n",
        "# 오버샘플링 이후의 클래스 분포 확인\n",
        "print(\"오버샘플링 이전의 클래스 분포: \", y_train.value_counts())\n",
        "print(\"오버샘플링 이후의 클래스 분포: \", y_train_resampled.value_counts())"
      ],
      "metadata": {
        "colab": {
          "base_uri": "https://localhost:8080/"
        },
        "id": "GIPuPp1Gx0I0",
        "outputId": "d183cdca-a578-4624-c1f4-06a3a31fe9c2"
      },
      "id": "GIPuPp1Gx0I0",
      "execution_count": 12,
      "outputs": [
        {
          "output_type": "stream",
          "name": "stdout",
          "text": [
            "오버샘플링 이전의 클래스 분포:  3    1066\n",
            "6     794\n",
            "5     603\n",
            "4     586\n",
            "2     507\n",
            "0     381\n",
            "1     146\n",
            "Name: Class, dtype: int64\n",
            "오버샘플링 이후의 클래스 분포:  0    1066\n",
            "6    1066\n",
            "3    1066\n",
            "5    1066\n",
            "2    1066\n",
            "1    1066\n",
            "4    1066\n",
            "Name: Class, dtype: int64\n"
          ]
        }
      ]
    },
    {
      "cell_type": "code",
      "execution_count": 13,
      "id": "da16cb38",
      "metadata": {
        "colab": {
          "base_uri": "https://localhost:8080/",
          "height": 75
        },
        "id": "da16cb38",
        "outputId": "9bed4de4-dd75-40e4-a1fe-7a9112f10903"
      },
      "outputs": [
        {
          "output_type": "execute_result",
          "data": {
            "text/plain": [
              "DecisionTreeClassifier(random_state=2023)"
            ],
            "text/html": [
              "<style>#sk-container-id-1 {color: black;background-color: white;}#sk-container-id-1 pre{padding: 0;}#sk-container-id-1 div.sk-toggleable {background-color: white;}#sk-container-id-1 label.sk-toggleable__label {cursor: pointer;display: block;width: 100%;margin-bottom: 0;padding: 0.3em;box-sizing: border-box;text-align: center;}#sk-container-id-1 label.sk-toggleable__label-arrow:before {content: \"▸\";float: left;margin-right: 0.25em;color: #696969;}#sk-container-id-1 label.sk-toggleable__label-arrow:hover:before {color: black;}#sk-container-id-1 div.sk-estimator:hover label.sk-toggleable__label-arrow:before {color: black;}#sk-container-id-1 div.sk-toggleable__content {max-height: 0;max-width: 0;overflow: hidden;text-align: left;background-color: #f0f8ff;}#sk-container-id-1 div.sk-toggleable__content pre {margin: 0.2em;color: black;border-radius: 0.25em;background-color: #f0f8ff;}#sk-container-id-1 input.sk-toggleable__control:checked~div.sk-toggleable__content {max-height: 200px;max-width: 100%;overflow: auto;}#sk-container-id-1 input.sk-toggleable__control:checked~label.sk-toggleable__label-arrow:before {content: \"▾\";}#sk-container-id-1 div.sk-estimator input.sk-toggleable__control:checked~label.sk-toggleable__label {background-color: #d4ebff;}#sk-container-id-1 div.sk-label input.sk-toggleable__control:checked~label.sk-toggleable__label {background-color: #d4ebff;}#sk-container-id-1 input.sk-hidden--visually {border: 0;clip: rect(1px 1px 1px 1px);clip: rect(1px, 1px, 1px, 1px);height: 1px;margin: -1px;overflow: hidden;padding: 0;position: absolute;width: 1px;}#sk-container-id-1 div.sk-estimator {font-family: monospace;background-color: #f0f8ff;border: 1px dotted black;border-radius: 0.25em;box-sizing: border-box;margin-bottom: 0.5em;}#sk-container-id-1 div.sk-estimator:hover {background-color: #d4ebff;}#sk-container-id-1 div.sk-parallel-item::after {content: \"\";width: 100%;border-bottom: 1px solid gray;flex-grow: 1;}#sk-container-id-1 div.sk-label:hover label.sk-toggleable__label {background-color: #d4ebff;}#sk-container-id-1 div.sk-serial::before {content: \"\";position: absolute;border-left: 1px solid gray;box-sizing: border-box;top: 0;bottom: 0;left: 50%;z-index: 0;}#sk-container-id-1 div.sk-serial {display: flex;flex-direction: column;align-items: center;background-color: white;padding-right: 0.2em;padding-left: 0.2em;position: relative;}#sk-container-id-1 div.sk-item {position: relative;z-index: 1;}#sk-container-id-1 div.sk-parallel {display: flex;align-items: stretch;justify-content: center;background-color: white;position: relative;}#sk-container-id-1 div.sk-item::before, #sk-container-id-1 div.sk-parallel-item::before {content: \"\";position: absolute;border-left: 1px solid gray;box-sizing: border-box;top: 0;bottom: 0;left: 50%;z-index: -1;}#sk-container-id-1 div.sk-parallel-item {display: flex;flex-direction: column;z-index: 1;position: relative;background-color: white;}#sk-container-id-1 div.sk-parallel-item:first-child::after {align-self: flex-end;width: 50%;}#sk-container-id-1 div.sk-parallel-item:last-child::after {align-self: flex-start;width: 50%;}#sk-container-id-1 div.sk-parallel-item:only-child::after {width: 0;}#sk-container-id-1 div.sk-dashed-wrapped {border: 1px dashed gray;margin: 0 0.4em 0.5em 0.4em;box-sizing: border-box;padding-bottom: 0.4em;background-color: white;}#sk-container-id-1 div.sk-label label {font-family: monospace;font-weight: bold;display: inline-block;line-height: 1.2em;}#sk-container-id-1 div.sk-label-container {text-align: center;}#sk-container-id-1 div.sk-container {/* jupyter's `normalize.less` sets `[hidden] { display: none; }` but bootstrap.min.css set `[hidden] { display: none !important; }` so we also need the `!important` here to be able to override the default hidden behavior on the sphinx rendered scikit-learn.org. See: https://github.com/scikit-learn/scikit-learn/issues/21755 */display: inline-block !important;position: relative;}#sk-container-id-1 div.sk-text-repr-fallback {display: none;}</style><div id=\"sk-container-id-1\" class=\"sk-top-container\"><div class=\"sk-text-repr-fallback\"><pre>DecisionTreeClassifier(random_state=2023)</pre><b>In a Jupyter environment, please rerun this cell to show the HTML representation or trust the notebook. <br />On GitHub, the HTML representation is unable to render, please try loading this page with nbviewer.org.</b></div><div class=\"sk-container\" hidden><div class=\"sk-item\"><div class=\"sk-estimator sk-toggleable\"><input class=\"sk-toggleable__control sk-hidden--visually\" id=\"sk-estimator-id-1\" type=\"checkbox\" checked><label for=\"sk-estimator-id-1\" class=\"sk-toggleable__label sk-toggleable__label-arrow\">DecisionTreeClassifier</label><div class=\"sk-toggleable__content\"><pre>DecisionTreeClassifier(random_state=2023)</pre></div></div></div></div></div>"
            ]
          },
          "metadata": {},
          "execution_count": 13
        }
      ],
      "source": [
        "dt_clf = DecisionTreeClassifier(random_state=2023)\n",
        "dt_clf.fit(x_train_resampled, y_train_resampled) "
      ]
    },
    {
      "cell_type": "code",
      "source": [
        "max_depth = dt_clf.tree_.max_depth\n",
        "print('Tree depth:', max_depth)"
      ],
      "metadata": {
        "colab": {
          "base_uri": "https://localhost:8080/"
        },
        "id": "E_-Vf0xs8cPO",
        "outputId": "df9b56e5-1208-4747-c0a9-80c587b65bd1"
      },
      "id": "E_-Vf0xs8cPO",
      "execution_count": 14,
      "outputs": [
        {
          "output_type": "stream",
          "name": "stdout",
          "text": [
            "Tree depth: 21\n"
          ]
        }
      ]
    },
    {
      "cell_type": "code",
      "execution_count": 15,
      "id": "635e91db",
      "metadata": {
        "id": "635e91db"
      },
      "outputs": [],
      "source": [
        "feature_names = x.columns\n",
        "class_names = ['SEKER', 'BARBUNYA', 'BOMBAY', 'CALI', 'HOROZ', 'SIRA', 'DERMASON']"
      ]
    },
    {
      "cell_type": "code",
      "execution_count": 16,
      "id": "a723d7b2",
      "metadata": {
        "id": "a723d7b2"
      },
      "outputs": [],
      "source": [
        "# export_graphviz( )의 호출 결과로 out_file로 지정된 tree.dot 파일을 생성\n",
        "export_graphviz(dt_clf, out_file=\"tree.dot\", class_names = class_names, feature_names = feature_names, impurity=True, filled=True)"
      ]
    },
    {
      "cell_type": "code",
      "execution_count": 17,
      "id": "430bc146",
      "metadata": {
        "colab": {
          "base_uri": "https://localhost:8080/",
          "height": 54
        },
        "id": "430bc146",
        "outputId": "631f6057-a665-44eb-94ac-7e7756450414"
      },
      "outputs": [
        {
          "output_type": "stream",
          "name": "stdout",
          "text": [
            "[ max_depth의 제약이 없는 경우의 Decision Tree 시각화 ]\n"
          ]
        },
        {
          "output_type": "execute_result",
          "data": {
            "text/plain": [
              "'/content/drive/MyDrive/기계학습/dt_notprun.png'"
            ],
            "application/vnd.google.colaboratory.intrinsic+json": {
              "type": "string"
            }
          },
          "metadata": {},
          "execution_count": 17
        }
      ],
      "source": [
        "print('[ max_depth의 제약이 없는 경우의 Decision Tree 시각화 ]')\n",
        "# 위에서 생성된 tree.dot 파일을 Graphiviz 가 읽어서 시각화\n",
        "with open(\"tree.dot\") as f:\n",
        "    dot_graph = f.read()\n",
        "dt = graphviz.Source(dot_graph)\n",
        "dt.render(filename='dt_notprun', directory='/content/drive/MyDrive/기계학습', format='png')"
      ]
    },
    {
      "cell_type": "code",
      "execution_count": 18,
      "id": "c7270bcb",
      "metadata": {
        "id": "c7270bcb"
      },
      "outputs": [],
      "source": [
        "y_pred = dt_clf.predict(x_test) "
      ]
    },
    {
      "cell_type": "code",
      "execution_count": 19,
      "id": "7b4bce1c",
      "metadata": {
        "colab": {
          "base_uri": "https://localhost:8080/"
        },
        "id": "7b4bce1c",
        "outputId": "c2dbf7ee-adb0-4ca0-8a0e-41dc0c7d1188"
      },
      "outputs": [
        {
          "output_type": "stream",
          "name": "stdout",
          "text": [
            "Train_Accuracy :  1.0 \n",
            "\n",
            "Test_Accuracy :  0.8903232577665827 \n",
            "\n",
            "Accuracy:  0.89 \n",
            "\n",
            "Recall:  0.91 \n",
            "\n",
            "Precision:  0.90 \n",
            "\n",
            "F1_score:  0.90 \n",
            "\n",
            "Confusion Matrix: \n",
            " [[ 815    0   71    0    7   20   28]\n",
            " [   2  374    0    0    0    0    0]\n",
            " [  57    0 1030    0   17    6   13]\n",
            " [   0    0    0 2210    9   70  191]\n",
            " [  13    0   39   23 1231    0   36]\n",
            " [  14    0    1   21    2 1359   27]\n",
            " [  13    0   10  231   55   69 1464]]\n"
          ]
        }
      ],
      "source": [
        "# 학습결과 평가\n",
        "print(\"Train_Accuracy : \", dt_clf.score(x_train_resampled, y_train_resampled), '\\n')\n",
        "print(\"Test_Accuracy : \", dt_clf.score(x_test, y_test), '\\n')\n",
        "\n",
        "accuracy = mt.accuracy_score(y_test, y_pred)\n",
        "recall = mt.recall_score(y_test, y_pred, average='macro')\n",
        "precision = mt.precision_score(y_test, y_pred, average='macro')\n",
        "f1_score = mt.f1_score(y_test, y_pred, average='macro')\n",
        "matrix = mt.confusion_matrix(y_test, y_pred)\n",
        "\n",
        "print('Accuracy: ', format(accuracy,'.2f'),'\\n')\n",
        "print('Recall: ', format(recall,'.2f'),'\\n')\n",
        "print('Precision: ', format(precision,'.2f'),'\\n')\n",
        "print('F1_score: ', format(f1_score,'.2f'),'\\n')\n",
        "print('Confusion Matrix:','\\n', matrix)"
      ]
    },
    {
      "cell_type": "code",
      "execution_count": 20,
      "id": "284260e2",
      "metadata": {
        "colab": {
          "base_uri": "https://localhost:8080/"
        },
        "id": "284260e2",
        "outputId": "e0fa2398-5c2e-4694-fa99-f5e02e3177fb"
      },
      "outputs": [
        {
          "output_type": "stream",
          "name": "stdout",
          "text": [
            "Averaged results of cross validation:  0.6883574960538\n"
          ]
        }
      ],
      "source": [
        "scores = cross_val_score(dt_clf, x, y, cv = 10)\n",
        "\n",
        "print('Averaged results of cross validation: ', scores.mean())"
      ]
    },
    {
      "cell_type": "code",
      "execution_count": 21,
      "id": "c855aed6",
      "metadata": {
        "scrolled": true,
        "colab": {
          "base_uri": "https://localhost:8080/",
          "height": 363
        },
        "id": "c855aed6",
        "outputId": "56d4e4ca-bb55-4677-8e1b-77ba4e227d2e"
      },
      "outputs": [
        {
          "output_type": "execute_result",
          "data": {
            "text/plain": [
              "   fit_time  score_time  test_score\n",
              "0  0.273494    0.002654    0.454479\n",
              "1  0.331412    0.003572    0.734754\n",
              "2  0.332893    0.002695    0.747979\n",
              "3  0.322498    0.002661    0.809699\n",
              "4  0.319486    0.002630    0.936811\n",
              "5  0.309434    0.002681    0.795738\n",
              "6  0.306091    0.002884    0.713446\n",
              "7  0.314858    0.002745    0.708303\n",
              "8  0.326139    0.002779    0.653931\n",
              "9  0.314025    0.002868    0.328435"
            ],
            "text/html": [
              "\n",
              "  <div id=\"df-f1d5fadd-4212-44cc-9d02-6599676b87fd\">\n",
              "    <div class=\"colab-df-container\">\n",
              "      <div>\n",
              "<style scoped>\n",
              "    .dataframe tbody tr th:only-of-type {\n",
              "        vertical-align: middle;\n",
              "    }\n",
              "\n",
              "    .dataframe tbody tr th {\n",
              "        vertical-align: top;\n",
              "    }\n",
              "\n",
              "    .dataframe thead th {\n",
              "        text-align: right;\n",
              "    }\n",
              "</style>\n",
              "<table border=\"1\" class=\"dataframe\">\n",
              "  <thead>\n",
              "    <tr style=\"text-align: right;\">\n",
              "      <th></th>\n",
              "      <th>fit_time</th>\n",
              "      <th>score_time</th>\n",
              "      <th>test_score</th>\n",
              "    </tr>\n",
              "  </thead>\n",
              "  <tbody>\n",
              "    <tr>\n",
              "      <th>0</th>\n",
              "      <td>0.273494</td>\n",
              "      <td>0.002654</td>\n",
              "      <td>0.454479</td>\n",
              "    </tr>\n",
              "    <tr>\n",
              "      <th>1</th>\n",
              "      <td>0.331412</td>\n",
              "      <td>0.003572</td>\n",
              "      <td>0.734754</td>\n",
              "    </tr>\n",
              "    <tr>\n",
              "      <th>2</th>\n",
              "      <td>0.332893</td>\n",
              "      <td>0.002695</td>\n",
              "      <td>0.747979</td>\n",
              "    </tr>\n",
              "    <tr>\n",
              "      <th>3</th>\n",
              "      <td>0.322498</td>\n",
              "      <td>0.002661</td>\n",
              "      <td>0.809699</td>\n",
              "    </tr>\n",
              "    <tr>\n",
              "      <th>4</th>\n",
              "      <td>0.319486</td>\n",
              "      <td>0.002630</td>\n",
              "      <td>0.936811</td>\n",
              "    </tr>\n",
              "    <tr>\n",
              "      <th>5</th>\n",
              "      <td>0.309434</td>\n",
              "      <td>0.002681</td>\n",
              "      <td>0.795738</td>\n",
              "    </tr>\n",
              "    <tr>\n",
              "      <th>6</th>\n",
              "      <td>0.306091</td>\n",
              "      <td>0.002884</td>\n",
              "      <td>0.713446</td>\n",
              "    </tr>\n",
              "    <tr>\n",
              "      <th>7</th>\n",
              "      <td>0.314858</td>\n",
              "      <td>0.002745</td>\n",
              "      <td>0.708303</td>\n",
              "    </tr>\n",
              "    <tr>\n",
              "      <th>8</th>\n",
              "      <td>0.326139</td>\n",
              "      <td>0.002779</td>\n",
              "      <td>0.653931</td>\n",
              "    </tr>\n",
              "    <tr>\n",
              "      <th>9</th>\n",
              "      <td>0.314025</td>\n",
              "      <td>0.002868</td>\n",
              "      <td>0.328435</td>\n",
              "    </tr>\n",
              "  </tbody>\n",
              "</table>\n",
              "</div>\n",
              "      <button class=\"colab-df-convert\" onclick=\"convertToInteractive('df-f1d5fadd-4212-44cc-9d02-6599676b87fd')\"\n",
              "              title=\"Convert this dataframe to an interactive table.\"\n",
              "              style=\"display:none;\">\n",
              "        \n",
              "  <svg xmlns=\"http://www.w3.org/2000/svg\" height=\"24px\"viewBox=\"0 0 24 24\"\n",
              "       width=\"24px\">\n",
              "    <path d=\"M0 0h24v24H0V0z\" fill=\"none\"/>\n",
              "    <path d=\"M18.56 5.44l.94 2.06.94-2.06 2.06-.94-2.06-.94-.94-2.06-.94 2.06-2.06.94zm-11 1L8.5 8.5l.94-2.06 2.06-.94-2.06-.94L8.5 2.5l-.94 2.06-2.06.94zm10 10l.94 2.06.94-2.06 2.06-.94-2.06-.94-.94-2.06-.94 2.06-2.06.94z\"/><path d=\"M17.41 7.96l-1.37-1.37c-.4-.4-.92-.59-1.43-.59-.52 0-1.04.2-1.43.59L10.3 9.45l-7.72 7.72c-.78.78-.78 2.05 0 2.83L4 21.41c.39.39.9.59 1.41.59.51 0 1.02-.2 1.41-.59l7.78-7.78 2.81-2.81c.8-.78.8-2.07 0-2.86zM5.41 20L4 18.59l7.72-7.72 1.47 1.35L5.41 20z\"/>\n",
              "  </svg>\n",
              "      </button>\n",
              "      \n",
              "  <style>\n",
              "    .colab-df-container {\n",
              "      display:flex;\n",
              "      flex-wrap:wrap;\n",
              "      gap: 12px;\n",
              "    }\n",
              "\n",
              "    .colab-df-convert {\n",
              "      background-color: #E8F0FE;\n",
              "      border: none;\n",
              "      border-radius: 50%;\n",
              "      cursor: pointer;\n",
              "      display: none;\n",
              "      fill: #1967D2;\n",
              "      height: 32px;\n",
              "      padding: 0 0 0 0;\n",
              "      width: 32px;\n",
              "    }\n",
              "\n",
              "    .colab-df-convert:hover {\n",
              "      background-color: #E2EBFA;\n",
              "      box-shadow: 0px 1px 2px rgba(60, 64, 67, 0.3), 0px 1px 3px 1px rgba(60, 64, 67, 0.15);\n",
              "      fill: #174EA6;\n",
              "    }\n",
              "\n",
              "    [theme=dark] .colab-df-convert {\n",
              "      background-color: #3B4455;\n",
              "      fill: #D2E3FC;\n",
              "    }\n",
              "\n",
              "    [theme=dark] .colab-df-convert:hover {\n",
              "      background-color: #434B5C;\n",
              "      box-shadow: 0px 1px 3px 1px rgba(0, 0, 0, 0.15);\n",
              "      filter: drop-shadow(0px 1px 2px rgba(0, 0, 0, 0.3));\n",
              "      fill: #FFFFFF;\n",
              "    }\n",
              "  </style>\n",
              "\n",
              "      <script>\n",
              "        const buttonEl =\n",
              "          document.querySelector('#df-f1d5fadd-4212-44cc-9d02-6599676b87fd button.colab-df-convert');\n",
              "        buttonEl.style.display =\n",
              "          google.colab.kernel.accessAllowed ? 'block' : 'none';\n",
              "\n",
              "        async function convertToInteractive(key) {\n",
              "          const element = document.querySelector('#df-f1d5fadd-4212-44cc-9d02-6599676b87fd');\n",
              "          const dataTable =\n",
              "            await google.colab.kernel.invokeFunction('convertToInteractive',\n",
              "                                                     [key], {});\n",
              "          if (!dataTable) return;\n",
              "\n",
              "          const docLinkHtml = 'Like what you see? Visit the ' +\n",
              "            '<a target=\"_blank\" href=https://colab.research.google.com/notebooks/data_table.ipynb>data table notebook</a>'\n",
              "            + ' to learn more about interactive tables.';\n",
              "          element.innerHTML = '';\n",
              "          dataTable['output_type'] = 'display_data';\n",
              "          await google.colab.output.renderOutput(dataTable, element);\n",
              "          const docLink = document.createElement('div');\n",
              "          docLink.innerHTML = docLinkHtml;\n",
              "          element.appendChild(docLink);\n",
              "        }\n",
              "      </script>\n",
              "    </div>\n",
              "  </div>\n",
              "  "
            ]
          },
          "metadata": {},
          "execution_count": 21
        }
      ],
      "source": [
        "pd.DataFrame(cross_validate(dt_clf, x, y, cv =10))"
      ]
    },
    {
      "cell_type": "code",
      "execution_count": 22,
      "id": "2792672f",
      "metadata": {
        "scrolled": true,
        "colab": {
          "base_uri": "https://localhost:8080/"
        },
        "id": "2792672f",
        "outputId": "6510f06f-9f0b-4d5a-f1b1-5fea6f2b6012"
      },
      "outputs": [
        {
          "output_type": "execute_result",
          "data": {
            "text/plain": [
              "0.8903232577665827"
            ]
          },
          "metadata": {},
          "execution_count": 22
        }
      ],
      "source": [
        "# test set에 대한 스코어(정확도)\n",
        "dt_clf.score(x_test, y_test)"
      ]
    },
    {
      "cell_type": "code",
      "execution_count": 23,
      "id": "2413a400",
      "metadata": {
        "colab": {
          "base_uri": "https://localhost:8080/"
        },
        "id": "2413a400",
        "outputId": "061d3fa3-2c44-414d-9723-3da6c7ba7b06"
      },
      "outputs": [
        {
          "output_type": "stream",
          "name": "stdout",
          "text": [
            "Fitting 5 folds for each of 4 candidates, totalling 20 fits\n",
            "최적의 하이퍼파라미터:  {'max_depth': 9}\n",
            "최고 예측 정확도:  0.9012968896248831\n"
          ]
        }
      ],
      "source": [
        "from sklearn.tree import DecisionTreeClassifier\n",
        "from sklearn.model_selection import GridSearchCV\n",
        "\n",
        "dt_clf = DecisionTreeClassifier(random_state=2023)\n",
        "\n",
        "params = {\n",
        "    'max_depth': [7,8,9,10]#,\n",
        "    #'min_samples_split': [4,5,6,7,8],\n",
        "    #'min_samples_leaf': [4,5,6,7,8]\n",
        "}\n",
        "\n",
        "grid_cv = GridSearchCV(dt_clf, param_grid=params, scoring='accuracy', cv=5, verbose=1)\n",
        "\n",
        "grid_cv.fit(x_train, y_train)\n",
        "\n",
        "# 최적의 하이퍼파라미터 조합\n",
        "print(\"최적의 하이퍼파라미터: \", grid_cv.best_params_)\n",
        "print(\"최고 예측 정확도: \", grid_cv.best_score_)"
      ]
    },
    {
      "cell_type": "code",
      "execution_count": 24,
      "id": "e3dc411c",
      "metadata": {
        "colab": {
          "base_uri": "https://localhost:8080/"
        },
        "id": "e3dc411c",
        "outputId": "02bb4233-b7ce-413e-92dc-16257e8a2870"
      },
      "outputs": [
        {
          "output_type": "stream",
          "name": "stdout",
          "text": [
            "Accuracy of training set: 0.969\n",
            "Accuracy of test set: 0.906\n",
            "Precision: 0.920\n",
            "Recall: 0.920\n",
            "F1-score: 0.919\n",
            "Confusion Matrix:\n",
            " [[ 834    0   65    0    5   12   25]\n",
            " [   0  376    0    0    0    0    0]\n",
            " [  49    0 1040    0   14    3   17]\n",
            " [   0    0    0 2237    3   63  177]\n",
            " [   6    0   40   20 1250    0   26]\n",
            " [  16    0    0   27    0 1358   23]\n",
            " [  15    0    5  205   42   33 1542]]\n"
          ]
        }
      ],
      "source": [
        "pruned_dt_clf = DecisionTreeClassifier(max_depth=10, min_samples_leaf=4, min_samples_split=7, random_state=2023) \n",
        "pruned_dt_clf .fit(x_train_resampled, y_train_resampled) \n",
        "\n",
        "print(\"Accuracy of training set: {:.3f}\".format(pruned_dt_clf.score(x_train_resampled, y_train_resampled)))\n",
        "print(\"Accuracy of test set: {:.3f}\".format(pruned_dt_clf.score(x_test, y_test)))\n",
        "\n",
        "\n",
        "from sklearn.metrics import precision_score, recall_score, f1_score, confusion_matrix\n",
        "\n",
        "y_pred = pruned_dt_clf.predict(x_test)\n",
        "\n",
        "precision = precision_score(y_test, y_pred, average='macro')\n",
        "recall = recall_score(y_test, y_pred, average='macro')\n",
        "f1 = f1_score(y_test, y_pred, average='macro')\n",
        "conf_matrix = confusion_matrix(y_test, y_pred)\n",
        "\n",
        "print('Precision: {:.3f}'.format(precision))\n",
        "print('Recall: {:.3f}'.format(recall))\n",
        "print('F1-score: {:.3f}'.format(f1))\n",
        "print('Confusion Matrix:\\n', conf_matrix)"
      ]
    },
    {
      "cell_type": "code",
      "execution_count": 25,
      "id": "6da1cd1d",
      "metadata": {
        "id": "6da1cd1d"
      },
      "outputs": [],
      "source": [
        "# export_graphviz( )의 호출 결과로 out_file로 지정된 tree.dot 파일을 생성함\n",
        "export_graphviz(pruned_dt_clf, out_file=\"prunedtree.dot\", class_names = class_names, feature_names = feature_names, impurity=True, filled=True)"
      ]
    },
    {
      "cell_type": "code",
      "execution_count": 26,
      "id": "79cca600",
      "metadata": {
        "colab": {
          "base_uri": "https://localhost:8080/"
        },
        "id": "79cca600",
        "outputId": "581ffa40-2b02-4f35-90a1-80fdc94b0780"
      },
      "outputs": [
        {
          "output_type": "stream",
          "name": "stdout",
          "text": [
            "[ max_depth가 10인 경우의 Decision Tree 시각화 ]\n"
          ]
        }
      ],
      "source": [
        "print('[ max_depth가 10인 경우의 Decision Tree 시각화 ]')\n",
        "# 위에서 생성된 tree.dot 파일을 Graphiviz 가 읽어서 시각화\n",
        "with open(\"prunedtree.dot\") as f:\n",
        "    dot_graph = f.read()\n",
        "gra=graphviz.Source(dot_graph)"
      ]
    },
    {
      "cell_type": "code",
      "execution_count": 27,
      "id": "fe34623d",
      "metadata": {
        "colab": {
          "base_uri": "https://localhost:8080/",
          "height": 36
        },
        "id": "fe34623d",
        "outputId": "4256585d-1cde-416b-b13c-211717bd67ae"
      },
      "outputs": [
        {
          "output_type": "execute_result",
          "data": {
            "text/plain": [
              "'/content/drive/MyDrive/기계학습/prun_img.png'"
            ],
            "application/vnd.google.colaboratory.intrinsic+json": {
              "type": "string"
            }
          },
          "metadata": {},
          "execution_count": 27
        }
      ],
      "source": [
        "gra.render(filename='prun_img', directory='/content/drive/MyDrive/기계학습', format='png')"
      ]
    },
    {
      "cell_type": "code",
      "execution_count": 28,
      "id": "c8dd4e76",
      "metadata": {
        "colab": {
          "base_uri": "https://localhost:8080/"
        },
        "id": "c8dd4e76",
        "outputId": "d78273a4-5824-4840-c107-6f4d29aa40dd"
      },
      "outputs": [
        {
          "output_type": "stream",
          "name": "stdout",
          "text": [
            "Feature importance ranking:\n",
            "1. feature 12 (0.333105)\n",
            "2. feature 2 (0.153507)\n",
            "3. feature 5 (0.134182)\n",
            "4. feature 1 (0.117437)\n",
            "5. feature 11 (0.100046)\n",
            "6. feature 10 (0.093145)\n",
            "7. feature 15 (0.020138)\n",
            "8. feature 14 (0.010540)\n",
            "9. feature 3 (0.009607)\n",
            "10. feature 9 (0.007872)\n",
            "11. feature 4 (0.005933)\n",
            "12. feature 8 (0.005610)\n",
            "13. feature 13 (0.004927)\n",
            "14. feature 7 (0.002731)\n",
            "15. feature 0 (0.000803)\n",
            "16. feature 6 (0.000418)\n"
          ]
        }
      ],
      "source": [
        "import numpy as np\n",
        "importances = pruned_dt_clf.feature_importances_\n",
        "indices = np.argsort(importances)[::-1]\n",
        "\n",
        "print(\"Feature importance ranking:\")\n",
        "for f in range(x_train_resampled.shape[1]):\n",
        "    print(\"%d. feature %d (%f)\" % (f + 1, indices[f], importances[indices[f]]))"
      ]
    },
    {
      "cell_type": "code",
      "execution_count": 29,
      "id": "b0764354",
      "metadata": {
        "colab": {
          "base_uri": "https://localhost:8080/"
        },
        "id": "b0764354",
        "outputId": "9e38d602-3c85-4789-f348-45445564abbb"
      },
      "outputs": [
        {
          "output_type": "stream",
          "name": "stdout",
          "text": [
            "Looking in indexes: https://pypi.org/simple, https://us-python.pkg.dev/colab-wheels/public/simple/\n",
            "Requirement already satisfied: mlxtend in /usr/local/lib/python3.10/dist-packages (0.14.0)\n",
            "Requirement already satisfied: scipy>=0.17 in /usr/local/lib/python3.10/dist-packages (from mlxtend) (1.10.1)\n",
            "Requirement already satisfied: numpy>=1.10.4 in /usr/local/lib/python3.10/dist-packages (from mlxtend) (1.22.4)\n",
            "Requirement already satisfied: matplotlib>=1.5.1 in /usr/local/lib/python3.10/dist-packages (from mlxtend) (3.7.1)\n",
            "Requirement already satisfied: scikit-learn>=0.18 in /usr/local/lib/python3.10/dist-packages (from mlxtend) (1.2.2)\n",
            "Requirement already satisfied: setuptools in /usr/local/lib/python3.10/dist-packages (from mlxtend) (67.7.2)\n",
            "Requirement already satisfied: pandas>=0.17.1 in /usr/local/lib/python3.10/dist-packages (from mlxtend) (1.5.3)\n",
            "Requirement already satisfied: pyparsing>=2.3.1 in /usr/local/lib/python3.10/dist-packages (from matplotlib>=1.5.1->mlxtend) (3.0.9)\n",
            "Requirement already satisfied: fonttools>=4.22.0 in /usr/local/lib/python3.10/dist-packages (from matplotlib>=1.5.1->mlxtend) (4.39.3)\n",
            "Requirement already satisfied: python-dateutil>=2.7 in /usr/local/lib/python3.10/dist-packages (from matplotlib>=1.5.1->mlxtend) (2.8.2)\n",
            "Requirement already satisfied: kiwisolver>=1.0.1 in /usr/local/lib/python3.10/dist-packages (from matplotlib>=1.5.1->mlxtend) (1.4.4)\n",
            "Requirement already satisfied: contourpy>=1.0.1 in /usr/local/lib/python3.10/dist-packages (from matplotlib>=1.5.1->mlxtend) (1.0.7)\n",
            "Requirement already satisfied: pillow>=6.2.0 in /usr/local/lib/python3.10/dist-packages (from matplotlib>=1.5.1->mlxtend) (8.4.0)\n",
            "Requirement already satisfied: packaging>=20.0 in /usr/local/lib/python3.10/dist-packages (from matplotlib>=1.5.1->mlxtend) (23.1)\n",
            "Requirement already satisfied: cycler>=0.10 in /usr/local/lib/python3.10/dist-packages (from matplotlib>=1.5.1->mlxtend) (0.11.0)\n",
            "Requirement already satisfied: pytz>=2020.1 in /usr/local/lib/python3.10/dist-packages (from pandas>=0.17.1->mlxtend) (2022.7.1)\n",
            "Requirement already satisfied: joblib>=1.1.1 in /usr/local/lib/python3.10/dist-packages (from scikit-learn>=0.18->mlxtend) (1.2.0)\n",
            "Requirement already satisfied: threadpoolctl>=2.0.0 in /usr/local/lib/python3.10/dist-packages (from scikit-learn>=0.18->mlxtend) (3.1.0)\n",
            "Requirement already satisfied: six>=1.5 in /usr/local/lib/python3.10/dist-packages (from python-dateutil>=2.7->matplotlib>=1.5.1->mlxtend) (1.16.0)\n"
          ]
        }
      ],
      "source": [
        "!pip install mlxtend"
      ]
    },
    {
      "cell_type": "code",
      "source": [
        "from sklearn.tree import DecisionTreeClassifier, export_text\n",
        "\n",
        "# 부분 의사결정나무 시각화\n",
        "tree_rules = export_text(pruned_dt_clf, feature_names=list(x_train_resampled.columns))\n",
        "print(tree_rules)"
      ],
      "metadata": {
        "colab": {
          "base_uri": "https://localhost:8080/"
        },
        "id": "qtNzixVbTIlg",
        "outputId": "a3acbab0-c710-490d-dc08-332036170623"
      },
      "id": "qtNzixVbTIlg",
      "execution_count": 30,
      "outputs": [
        {
          "output_type": "stream",
          "name": "stdout",
          "text": [
            "|--- ShapeFactor1 <= 0.00\n",
            "|   |--- Area <= 126060.50\n",
            "|   |   |--- class: 1\n",
            "|   |--- Area >  126060.50\n",
            "|   |   |--- class: 1\n",
            "|--- ShapeFactor1 >  0.00\n",
            "|   |--- MajorAxisLength <= 323.89\n",
            "|   |   |--- Eccentricity <= 0.67\n",
            "|   |   |   |--- ShapeFactor1 <= 0.01\n",
            "|   |   |   |   |--- Perimeter <= 896.69\n",
            "|   |   |   |   |   |--- ShapeFactor4 <= 1.00\n",
            "|   |   |   |   |   |   |--- ShapeFactor3 <= 0.75\n",
            "|   |   |   |   |   |   |   |--- AspectRation <= 1.34\n",
            "|   |   |   |   |   |   |   |   |--- class: 6\n",
            "|   |   |   |   |   |   |   |--- AspectRation >  1.34\n",
            "|   |   |   |   |   |   |   |   |--- class: 5\n",
            "|   |   |   |   |   |   |--- ShapeFactor3 >  0.75\n",
            "|   |   |   |   |   |   |   |--- EquivDiameter <= 212.87\n",
            "|   |   |   |   |   |   |   |   |--- class: 5\n",
            "|   |   |   |   |   |   |   |--- EquivDiameter >  212.87\n",
            "|   |   |   |   |   |   |   |   |--- ShapeFactor4 <= 1.00\n",
            "|   |   |   |   |   |   |   |   |   |--- EquivDiameter <= 219.37\n",
            "|   |   |   |   |   |   |   |   |   |   |--- class: 5\n",
            "|   |   |   |   |   |   |   |   |   |--- EquivDiameter >  219.37\n",
            "|   |   |   |   |   |   |   |   |   |   |--- class: 5\n",
            "|   |   |   |   |   |   |   |   |--- ShapeFactor4 >  1.00\n",
            "|   |   |   |   |   |   |   |   |   |--- class: 5\n",
            "|   |   |   |   |   |--- ShapeFactor4 >  1.00\n",
            "|   |   |   |   |   |   |--- roundness <= 0.87\n",
            "|   |   |   |   |   |   |   |--- MajorAxisLength <= 276.82\n",
            "|   |   |   |   |   |   |   |   |--- class: 5\n",
            "|   |   |   |   |   |   |   |--- MajorAxisLength >  276.82\n",
            "|   |   |   |   |   |   |   |   |--- class: 0\n",
            "|   |   |   |   |   |   |--- roundness >  0.87\n",
            "|   |   |   |   |   |   |   |--- ShapeFactor1 <= 0.01\n",
            "|   |   |   |   |   |   |   |   |--- Eccentricity <= 0.67\n",
            "|   |   |   |   |   |   |   |   |   |--- class: 5\n",
            "|   |   |   |   |   |   |   |   |--- Eccentricity >  0.67\n",
            "|   |   |   |   |   |   |   |   |   |--- class: 5\n",
            "|   |   |   |   |   |   |   |--- ShapeFactor1 >  0.01\n",
            "|   |   |   |   |   |   |   |   |--- ShapeFactor3 <= 0.78\n",
            "|   |   |   |   |   |   |   |   |   |--- class: 3\n",
            "|   |   |   |   |   |   |   |   |--- ShapeFactor3 >  0.78\n",
            "|   |   |   |   |   |   |   |   |   |--- class: 5\n",
            "|   |   |   |   |--- Perimeter >  896.69\n",
            "|   |   |   |   |   |--- ShapeFactor3 <= 0.77\n",
            "|   |   |   |   |   |   |--- class: 0\n",
            "|   |   |   |   |   |--- ShapeFactor3 >  0.77\n",
            "|   |   |   |   |   |   |--- class: 0\n",
            "|   |   |   |--- ShapeFactor1 >  0.01\n",
            "|   |   |   |   |--- ShapeFactor4 <= 1.00\n",
            "|   |   |   |   |   |--- Eccentricity <= 0.61\n",
            "|   |   |   |   |   |   |--- class: 3\n",
            "|   |   |   |   |   |--- Eccentricity >  0.61\n",
            "|   |   |   |   |   |   |--- Solidity <= 0.99\n",
            "|   |   |   |   |   |   |   |--- class: 3\n",
            "|   |   |   |   |   |   |--- Solidity >  0.99\n",
            "|   |   |   |   |   |   |   |--- Eccentricity <= 0.66\n",
            "|   |   |   |   |   |   |   |   |--- class: 3\n",
            "|   |   |   |   |   |   |   |--- Eccentricity >  0.66\n",
            "|   |   |   |   |   |   |   |   |--- class: 3\n",
            "|   |   |   |   |--- ShapeFactor4 >  1.00\n",
            "|   |   |   |   |   |--- class: 5\n",
            "|   |   |--- Eccentricity >  0.67\n",
            "|   |   |   |--- Perimeter <= 739.89\n",
            "|   |   |   |   |--- Perimeter <= 717.63\n",
            "|   |   |   |   |   |--- ShapeFactor1 <= 0.01\n",
            "|   |   |   |   |   |   |--- ShapeFactor4 <= 1.00\n",
            "|   |   |   |   |   |   |   |--- Extent <= 0.80\n",
            "|   |   |   |   |   |   |   |   |--- Extent <= 0.75\n",
            "|   |   |   |   |   |   |   |   |   |--- class: 3\n",
            "|   |   |   |   |   |   |   |   |--- Extent >  0.75\n",
            "|   |   |   |   |   |   |   |   |   |--- Perimeter <= 712.17\n",
            "|   |   |   |   |   |   |   |   |   |   |--- class: 6\n",
            "|   |   |   |   |   |   |   |   |   |--- Perimeter >  712.17\n",
            "|   |   |   |   |   |   |   |   |   |   |--- class: 3\n",
            "|   |   |   |   |   |   |   |--- Extent >  0.80\n",
            "|   |   |   |   |   |   |   |   |--- class: 3\n",
            "|   |   |   |   |   |   |--- ShapeFactor4 >  1.00\n",
            "|   |   |   |   |   |   |   |--- class: 5\n",
            "|   |   |   |   |   |--- ShapeFactor1 >  0.01\n",
            "|   |   |   |   |   |   |--- Area <= 33307.50\n",
            "|   |   |   |   |   |   |   |--- ShapeFactor4 <= 0.99\n",
            "|   |   |   |   |   |   |   |   |--- class: 3\n",
            "|   |   |   |   |   |   |   |--- ShapeFactor4 >  0.99\n",
            "|   |   |   |   |   |   |   |   |--- class: 3\n",
            "|   |   |   |   |   |   |--- Area >  33307.50\n",
            "|   |   |   |   |   |   |   |--- ShapeFactor4 <= 1.00\n",
            "|   |   |   |   |   |   |   |   |--- Solidity <= 0.99\n",
            "|   |   |   |   |   |   |   |   |   |--- EquivDiameter <= 210.46\n",
            "|   |   |   |   |   |   |   |   |   |   |--- class: 3\n",
            "|   |   |   |   |   |   |   |   |   |--- EquivDiameter >  210.46\n",
            "|   |   |   |   |   |   |   |   |   |   |--- class: 6\n",
            "|   |   |   |   |   |   |   |   |--- Solidity >  0.99\n",
            "|   |   |   |   |   |   |   |   |   |--- ShapeFactor4 <= 1.00\n",
            "|   |   |   |   |   |   |   |   |   |   |--- class: 3\n",
            "|   |   |   |   |   |   |   |   |   |--- ShapeFactor4 >  1.00\n",
            "|   |   |   |   |   |   |   |   |   |   |--- class: 3\n",
            "|   |   |   |   |   |   |   |--- ShapeFactor4 >  1.00\n",
            "|   |   |   |   |   |   |   |   |--- Extent <= 0.80\n",
            "|   |   |   |   |   |   |   |   |   |--- EquivDiameter <= 206.04\n",
            "|   |   |   |   |   |   |   |   |   |   |--- class: 3\n",
            "|   |   |   |   |   |   |   |   |   |--- EquivDiameter >  206.04\n",
            "|   |   |   |   |   |   |   |   |   |   |--- class: 3\n",
            "|   |   |   |   |   |   |   |   |--- Extent >  0.80\n",
            "|   |   |   |   |   |   |   |   |   |--- MajorAxisLength <= 256.63\n",
            "|   |   |   |   |   |   |   |   |   |   |--- class: 3\n",
            "|   |   |   |   |   |   |   |   |   |--- MajorAxisLength >  256.63\n",
            "|   |   |   |   |   |   |   |   |   |   |--- class: 3\n",
            "|   |   |   |   |--- Perimeter >  717.63\n",
            "|   |   |   |   |   |--- ShapeFactor1 <= 0.01\n",
            "|   |   |   |   |   |   |--- Extent <= 0.79\n",
            "|   |   |   |   |   |   |   |--- ShapeFactor3 <= 0.72\n",
            "|   |   |   |   |   |   |   |   |--- class: 5\n",
            "|   |   |   |   |   |   |   |--- ShapeFactor3 >  0.72\n",
            "|   |   |   |   |   |   |   |   |--- class: 5\n",
            "|   |   |   |   |   |   |--- Extent >  0.79\n",
            "|   |   |   |   |   |   |   |--- class: 6\n",
            "|   |   |   |   |   |--- ShapeFactor1 >  0.01\n",
            "|   |   |   |   |   |   |--- Extent <= 0.79\n",
            "|   |   |   |   |   |   |   |--- MajorAxisLength <= 269.31\n",
            "|   |   |   |   |   |   |   |   |--- Extent <= 0.74\n",
            "|   |   |   |   |   |   |   |   |   |--- MajorAxisLength <= 268.18\n",
            "|   |   |   |   |   |   |   |   |   |   |--- class: 3\n",
            "|   |   |   |   |   |   |   |   |   |--- MajorAxisLength >  268.18\n",
            "|   |   |   |   |   |   |   |   |   |   |--- class: 6\n",
            "|   |   |   |   |   |   |   |   |--- Extent >  0.74\n",
            "|   |   |   |   |   |   |   |   |   |--- ShapeFactor2 <= 0.00\n",
            "|   |   |   |   |   |   |   |   |   |   |--- class: 3\n",
            "|   |   |   |   |   |   |   |   |   |--- ShapeFactor2 >  0.00\n",
            "|   |   |   |   |   |   |   |   |   |   |--- class: 6\n",
            "|   |   |   |   |   |   |   |--- MajorAxisLength >  269.31\n",
            "|   |   |   |   |   |   |   |   |--- roundness <= 0.86\n",
            "|   |   |   |   |   |   |   |   |   |--- class: 4\n",
            "|   |   |   |   |   |   |   |   |--- roundness >  0.86\n",
            "|   |   |   |   |   |   |   |   |   |--- Perimeter <= 727.32\n",
            "|   |   |   |   |   |   |   |   |   |   |--- class: 3\n",
            "|   |   |   |   |   |   |   |   |   |--- Perimeter >  727.32\n",
            "|   |   |   |   |   |   |   |   |   |   |--- class: 3\n",
            "|   |   |   |   |   |   |--- Extent >  0.79\n",
            "|   |   |   |   |   |   |   |--- ShapeFactor4 <= 1.00\n",
            "|   |   |   |   |   |   |   |   |--- roundness <= 0.92\n",
            "|   |   |   |   |   |   |   |   |   |--- Area <= 37487.50\n",
            "|   |   |   |   |   |   |   |   |   |   |--- class: 6\n",
            "|   |   |   |   |   |   |   |   |   |--- Area >  37487.50\n",
            "|   |   |   |   |   |   |   |   |   |   |--- class: 6\n",
            "|   |   |   |   |   |   |   |   |--- roundness >  0.92\n",
            "|   |   |   |   |   |   |   |   |   |--- class: 3\n",
            "|   |   |   |   |   |   |   |--- ShapeFactor4 >  1.00\n",
            "|   |   |   |   |   |   |   |   |--- class: 3\n",
            "|   |   |   |--- Perimeter >  739.89\n",
            "|   |   |   |   |--- roundness <= 0.84\n",
            "|   |   |   |   |   |--- MinorAxisLength <= 191.40\n",
            "|   |   |   |   |   |   |--- ShapeFactor2 <= 0.00\n",
            "|   |   |   |   |   |   |   |--- class: 4\n",
            "|   |   |   |   |   |   |--- ShapeFactor2 >  0.00\n",
            "|   |   |   |   |   |   |   |--- EquivDiameter <= 222.65\n",
            "|   |   |   |   |   |   |   |   |--- ConvexArea <= 37258.50\n",
            "|   |   |   |   |   |   |   |   |   |--- class: 3\n",
            "|   |   |   |   |   |   |   |   |--- ConvexArea >  37258.50\n",
            "|   |   |   |   |   |   |   |   |   |--- class: 3\n",
            "|   |   |   |   |   |   |   |--- EquivDiameter >  222.65\n",
            "|   |   |   |   |   |   |   |   |--- ShapeFactor3 <= 0.59\n",
            "|   |   |   |   |   |   |   |   |   |--- class: 4\n",
            "|   |   |   |   |   |   |   |   |--- ShapeFactor3 >  0.59\n",
            "|   |   |   |   |   |   |   |   |   |--- class: 6\n",
            "|   |   |   |   |   |--- MinorAxisLength >  191.40\n",
            "|   |   |   |   |   |   |--- MajorAxisLength <= 289.39\n",
            "|   |   |   |   |   |   |   |--- class: 5\n",
            "|   |   |   |   |   |   |--- MajorAxisLength >  289.39\n",
            "|   |   |   |   |   |   |   |--- Extent <= 0.72\n",
            "|   |   |   |   |   |   |   |   |--- class: 0\n",
            "|   |   |   |   |   |   |   |--- Extent >  0.72\n",
            "|   |   |   |   |   |   |   |   |--- class: 0\n",
            "|   |   |   |   |--- roundness >  0.84\n",
            "|   |   |   |   |   |--- Compactness <= 0.84\n",
            "|   |   |   |   |   |   |--- Perimeter <= 767.06\n",
            "|   |   |   |   |   |   |   |--- ShapeFactor2 <= 0.00\n",
            "|   |   |   |   |   |   |   |   |--- roundness <= 0.85\n",
            "|   |   |   |   |   |   |   |   |   |--- Eccentricity <= 0.82\n",
            "|   |   |   |   |   |   |   |   |   |   |--- class: 6\n",
            "|   |   |   |   |   |   |   |   |   |--- Eccentricity >  0.82\n",
            "|   |   |   |   |   |   |   |   |   |   |--- class: 4\n",
            "|   |   |   |   |   |   |   |   |--- roundness >  0.85\n",
            "|   |   |   |   |   |   |   |   |   |--- Extent <= 0.80\n",
            "|   |   |   |   |   |   |   |   |   |   |--- class: 3\n",
            "|   |   |   |   |   |   |   |   |   |--- Extent >  0.80\n",
            "|   |   |   |   |   |   |   |   |   |   |--- class: 6\n",
            "|   |   |   |   |   |   |   |--- ShapeFactor2 >  0.00\n",
            "|   |   |   |   |   |   |   |   |--- roundness <= 0.91\n",
            "|   |   |   |   |   |   |   |   |   |--- ShapeFactor4 <= 1.00\n",
            "|   |   |   |   |   |   |   |   |   |   |--- class: 6\n",
            "|   |   |   |   |   |   |   |   |   |--- ShapeFactor4 >  1.00\n",
            "|   |   |   |   |   |   |   |   |   |   |--- class: 6\n",
            "|   |   |   |   |   |   |   |   |--- roundness >  0.91\n",
            "|   |   |   |   |   |   |   |   |   |--- roundness <= 0.93\n",
            "|   |   |   |   |   |   |   |   |   |   |--- class: 3\n",
            "|   |   |   |   |   |   |   |   |   |--- roundness >  0.93\n",
            "|   |   |   |   |   |   |   |   |   |   |--- class: 5\n",
            "|   |   |   |   |   |   |--- Perimeter >  767.06\n",
            "|   |   |   |   |   |   |   |--- roundness <= 0.92\n",
            "|   |   |   |   |   |   |   |   |--- ShapeFactor4 <= 1.00\n",
            "|   |   |   |   |   |   |   |   |   |--- Compactness <= 0.75\n",
            "|   |   |   |   |   |   |   |   |   |   |--- class: 4\n",
            "|   |   |   |   |   |   |   |   |   |--- Compactness >  0.75\n",
            "|   |   |   |   |   |   |   |   |   |   |--- class: 6\n",
            "|   |   |   |   |   |   |   |   |--- ShapeFactor4 >  1.00\n",
            "|   |   |   |   |   |   |   |   |   |--- MinorAxisLength <= 205.98\n",
            "|   |   |   |   |   |   |   |   |   |   |--- class: 6\n",
            "|   |   |   |   |   |   |   |   |   |--- MinorAxisLength >  205.98\n",
            "|   |   |   |   |   |   |   |   |   |   |--- class: 5\n",
            "|   |   |   |   |   |   |   |--- roundness >  0.92\n",
            "|   |   |   |   |   |   |   |   |--- Solidity <= 0.99\n",
            "|   |   |   |   |   |   |   |   |   |--- class: 5\n",
            "|   |   |   |   |   |   |   |   |--- Solidity >  0.99\n",
            "|   |   |   |   |   |   |   |   |   |--- class: 5\n",
            "|   |   |   |   |   |--- Compactness >  0.84\n",
            "|   |   |   |   |   |   |--- ShapeFactor4 <= 1.00\n",
            "|   |   |   |   |   |   |   |--- Extent <= 0.73\n",
            "|   |   |   |   |   |   |   |   |--- class: 3\n",
            "|   |   |   |   |   |   |   |--- Extent >  0.73\n",
            "|   |   |   |   |   |   |   |   |--- AspectRation <= 1.39\n",
            "|   |   |   |   |   |   |   |   |   |--- class: 6\n",
            "|   |   |   |   |   |   |   |   |--- AspectRation >  1.39\n",
            "|   |   |   |   |   |   |   |   |   |--- class: 6\n",
            "|   |   |   |   |   |   |--- ShapeFactor4 >  1.00\n",
            "|   |   |   |   |   |   |   |--- MinorAxisLength <= 193.68\n",
            "|   |   |   |   |   |   |   |   |--- class: 3\n",
            "|   |   |   |   |   |   |   |--- MinorAxisLength >  193.68\n",
            "|   |   |   |   |   |   |   |   |--- Extent <= 0.73\n",
            "|   |   |   |   |   |   |   |   |   |--- class: 5\n",
            "|   |   |   |   |   |   |   |   |--- Extent >  0.73\n",
            "|   |   |   |   |   |   |   |   |   |--- class: 5\n",
            "|   |--- MajorAxisLength >  323.89\n",
            "|   |   |--- ShapeFactor1 <= 0.01\n",
            "|   |   |   |--- Compactness <= 0.78\n",
            "|   |   |   |   |--- roundness <= 0.81\n",
            "|   |   |   |   |   |--- ShapeFactor3 <= 0.56\n",
            "|   |   |   |   |   |   |--- Compactness <= 0.70\n",
            "|   |   |   |   |   |   |   |--- class: 4\n",
            "|   |   |   |   |   |   |--- Compactness >  0.70\n",
            "|   |   |   |   |   |   |   |--- roundness <= 0.76\n",
            "|   |   |   |   |   |   |   |   |--- class: 0\n",
            "|   |   |   |   |   |   |   |--- roundness >  0.76\n",
            "|   |   |   |   |   |   |   |   |--- Extent <= 0.63\n",
            "|   |   |   |   |   |   |   |   |   |--- class: 4\n",
            "|   |   |   |   |   |   |   |   |--- Extent >  0.63\n",
            "|   |   |   |   |   |   |   |   |   |--- class: 2\n",
            "|   |   |   |   |   |--- ShapeFactor3 >  0.56\n",
            "|   |   |   |   |   |   |--- ShapeFactor4 <= 0.99\n",
            "|   |   |   |   |   |   |   |--- roundness <= 0.74\n",
            "|   |   |   |   |   |   |   |   |--- class: 0\n",
            "|   |   |   |   |   |   |   |--- roundness >  0.74\n",
            "|   |   |   |   |   |   |   |   |--- class: 0\n",
            "|   |   |   |   |   |   |--- ShapeFactor4 >  0.99\n",
            "|   |   |   |   |   |   |   |--- class: 0\n",
            "|   |   |   |   |--- roundness >  0.81\n",
            "|   |   |   |   |   |--- ShapeFactor4 <= 1.00\n",
            "|   |   |   |   |   |   |--- MinorAxisLength <= 210.19\n",
            "|   |   |   |   |   |   |   |--- class: 4\n",
            "|   |   |   |   |   |   |--- MinorAxisLength >  210.19\n",
            "|   |   |   |   |   |   |   |--- ShapeFactor4 <= 0.98\n",
            "|   |   |   |   |   |   |   |   |--- class: 4\n",
            "|   |   |   |   |   |   |   |--- ShapeFactor4 >  0.98\n",
            "|   |   |   |   |   |   |   |   |--- Perimeter <= 927.57\n",
            "|   |   |   |   |   |   |   |   |   |--- class: 2\n",
            "|   |   |   |   |   |   |   |   |--- Perimeter >  927.57\n",
            "|   |   |   |   |   |   |   |   |   |--- MinorAxisLength <= 215.39\n",
            "|   |   |   |   |   |   |   |   |   |   |--- class: 2\n",
            "|   |   |   |   |   |   |   |   |   |--- MinorAxisLength >  215.39\n",
            "|   |   |   |   |   |   |   |   |   |   |--- class: 2\n",
            "|   |   |   |   |   |--- ShapeFactor4 >  1.00\n",
            "|   |   |   |   |   |   |--- Solidity <= 0.99\n",
            "|   |   |   |   |   |   |   |--- Eccentricity <= 0.82\n",
            "|   |   |   |   |   |   |   |   |--- roundness <= 0.86\n",
            "|   |   |   |   |   |   |   |   |   |--- class: 0\n",
            "|   |   |   |   |   |   |   |   |--- roundness >  0.86\n",
            "|   |   |   |   |   |   |   |   |   |--- class: 0\n",
            "|   |   |   |   |   |   |   |--- Eccentricity >  0.82\n",
            "|   |   |   |   |   |   |   |   |--- class: 2\n",
            "|   |   |   |   |   |   |--- Solidity >  0.99\n",
            "|   |   |   |   |   |   |   |--- ShapeFactor4 <= 1.00\n",
            "|   |   |   |   |   |   |   |   |--- Perimeter <= 955.18\n",
            "|   |   |   |   |   |   |   |   |   |--- class: 2\n",
            "|   |   |   |   |   |   |   |   |--- Perimeter >  955.18\n",
            "|   |   |   |   |   |   |   |   |   |--- roundness <= 0.88\n",
            "|   |   |   |   |   |   |   |   |   |   |--- class: 2\n",
            "|   |   |   |   |   |   |   |   |   |--- roundness >  0.88\n",
            "|   |   |   |   |   |   |   |   |   |   |--- class: 2\n",
            "|   |   |   |   |   |   |   |--- ShapeFactor4 >  1.00\n",
            "|   |   |   |   |   |   |   |   |--- class: 0\n",
            "|   |   |   |--- Compactness >  0.78\n",
            "|   |   |   |   |--- roundness <= 0.85\n",
            "|   |   |   |   |   |--- Solidity <= 0.99\n",
            "|   |   |   |   |   |   |--- ShapeFactor4 <= 0.99\n",
            "|   |   |   |   |   |   |   |--- ShapeFactor2 <= 0.00\n",
            "|   |   |   |   |   |   |   |   |--- class: 0\n",
            "|   |   |   |   |   |   |   |--- ShapeFactor2 >  0.00\n",
            "|   |   |   |   |   |   |   |   |--- class: 0\n",
            "|   |   |   |   |   |   |--- ShapeFactor4 >  0.99\n",
            "|   |   |   |   |   |   |   |--- roundness <= 0.85\n",
            "|   |   |   |   |   |   |   |   |--- class: 0\n",
            "|   |   |   |   |   |   |   |--- roundness >  0.85\n",
            "|   |   |   |   |   |   |   |   |--- AspectRation <= 1.57\n",
            "|   |   |   |   |   |   |   |   |   |--- class: 0\n",
            "|   |   |   |   |   |   |   |   |--- AspectRation >  1.57\n",
            "|   |   |   |   |   |   |   |   |   |--- class: 0\n",
            "|   |   |   |   |   |--- Solidity >  0.99\n",
            "|   |   |   |   |   |   |--- class: 2\n",
            "|   |   |   |   |--- roundness >  0.85\n",
            "|   |   |   |   |   |--- ShapeFactor4 <= 1.00\n",
            "|   |   |   |   |   |   |--- AspectRation <= 1.46\n",
            "|   |   |   |   |   |   |   |--- class: 0\n",
            "|   |   |   |   |   |   |--- AspectRation >  1.46\n",
            "|   |   |   |   |   |   |   |--- ShapeFactor4 <= 0.99\n",
            "|   |   |   |   |   |   |   |   |--- Eccentricity <= 0.76\n",
            "|   |   |   |   |   |   |   |   |   |--- AspectRation <= 1.52\n",
            "|   |   |   |   |   |   |   |   |   |   |--- class: 2\n",
            "|   |   |   |   |   |   |   |   |   |--- AspectRation >  1.52\n",
            "|   |   |   |   |   |   |   |   |   |   |--- class: 2\n",
            "|   |   |   |   |   |   |   |   |--- Eccentricity >  0.76\n",
            "|   |   |   |   |   |   |   |   |   |--- class: 2\n",
            "|   |   |   |   |   |   |   |--- ShapeFactor4 >  0.99\n",
            "|   |   |   |   |   |   |   |   |--- roundness <= 0.86\n",
            "|   |   |   |   |   |   |   |   |   |--- ShapeFactor4 <= 1.00\n",
            "|   |   |   |   |   |   |   |   |   |   |--- class: 0\n",
            "|   |   |   |   |   |   |   |   |   |--- ShapeFactor4 >  1.00\n",
            "|   |   |   |   |   |   |   |   |   |   |--- class: 0\n",
            "|   |   |   |   |   |   |   |   |--- roundness >  0.86\n",
            "|   |   |   |   |   |   |   |   |   |--- ShapeFactor2 <= 0.00\n",
            "|   |   |   |   |   |   |   |   |   |   |--- class: 2\n",
            "|   |   |   |   |   |   |   |   |   |--- ShapeFactor2 >  0.00\n",
            "|   |   |   |   |   |   |   |   |   |   |--- class: 6\n",
            "|   |   |   |   |   |--- ShapeFactor4 >  1.00\n",
            "|   |   |   |   |   |   |--- Solidity <= 0.99\n",
            "|   |   |   |   |   |   |   |--- roundness <= 0.88\n",
            "|   |   |   |   |   |   |   |   |--- class: 0\n",
            "|   |   |   |   |   |   |   |--- roundness >  0.88\n",
            "|   |   |   |   |   |   |   |   |--- class: 0\n",
            "|   |   |   |   |   |   |--- Solidity >  0.99\n",
            "|   |   |   |   |   |   |   |--- MinorAxisLength <= 233.26\n",
            "|   |   |   |   |   |   |   |   |--- ConvexArea <= 65121.50\n",
            "|   |   |   |   |   |   |   |   |   |--- class: 0\n",
            "|   |   |   |   |   |   |   |   |--- ConvexArea >  65121.50\n",
            "|   |   |   |   |   |   |   |   |   |--- class: 0\n",
            "|   |   |   |   |   |   |   |--- MinorAxisLength >  233.26\n",
            "|   |   |   |   |   |   |   |   |--- ShapeFactor4 <= 1.00\n",
            "|   |   |   |   |   |   |   |   |   |--- EquivDiameter <= 309.29\n",
            "|   |   |   |   |   |   |   |   |   |   |--- class: 0\n",
            "|   |   |   |   |   |   |   |   |   |--- EquivDiameter >  309.29\n",
            "|   |   |   |   |   |   |   |   |   |   |--- class: 2\n",
            "|   |   |   |   |   |   |   |   |--- ShapeFactor4 >  1.00\n",
            "|   |   |   |   |   |   |   |   |   |--- class: 2\n",
            "|   |   |--- ShapeFactor1 >  0.01\n",
            "|   |   |   |--- roundness <= 0.84\n",
            "|   |   |   |   |--- AspectRation <= 1.84\n",
            "|   |   |   |   |   |--- ShapeFactor3 <= 0.58\n",
            "|   |   |   |   |   |   |--- EquivDiameter <= 267.70\n",
            "|   |   |   |   |   |   |   |--- roundness <= 0.82\n",
            "|   |   |   |   |   |   |   |   |--- class: 4\n",
            "|   |   |   |   |   |   |   |--- roundness >  0.82\n",
            "|   |   |   |   |   |   |   |   |--- ShapeFactor4 <= 0.99\n",
            "|   |   |   |   |   |   |   |   |   |--- ShapeFactor4 <= 0.99\n",
            "|   |   |   |   |   |   |   |   |   |   |--- class: 4\n",
            "|   |   |   |   |   |   |   |   |   |--- ShapeFactor4 >  0.99\n",
            "|   |   |   |   |   |   |   |   |   |   |--- class: 6\n",
            "|   |   |   |   |   |   |   |   |--- ShapeFactor4 >  0.99\n",
            "|   |   |   |   |   |   |   |   |   |--- Perimeter <= 899.72\n",
            "|   |   |   |   |   |   |   |   |   |   |--- class: 4\n",
            "|   |   |   |   |   |   |   |   |   |--- Perimeter >  899.72\n",
            "|   |   |   |   |   |   |   |   |   |   |--- class: 4\n",
            "|   |   |   |   |   |   |--- EquivDiameter >  267.70\n",
            "|   |   |   |   |   |   |   |--- ShapeFactor3 <= 0.55\n",
            "|   |   |   |   |   |   |   |   |--- MinorAxisLength <= 206.43\n",
            "|   |   |   |   |   |   |   |   |   |--- class: 4\n",
            "|   |   |   |   |   |   |   |   |--- MinorAxisLength >  206.43\n",
            "|   |   |   |   |   |   |   |   |   |--- class: 4\n",
            "|   |   |   |   |   |   |   |--- ShapeFactor3 >  0.55\n",
            "|   |   |   |   |   |   |   |   |--- ConvexArea <= 59067.50\n",
            "|   |   |   |   |   |   |   |   |   |--- class: 2\n",
            "|   |   |   |   |   |   |   |   |--- ConvexArea >  59067.50\n",
            "|   |   |   |   |   |   |   |   |   |--- class: 2\n",
            "|   |   |   |   |   |--- ShapeFactor3 >  0.58\n",
            "|   |   |   |   |   |   |--- Extent <= 0.70\n",
            "|   |   |   |   |   |   |   |--- class: 6\n",
            "|   |   |   |   |   |   |--- Extent >  0.70\n",
            "|   |   |   |   |   |   |   |--- class: 0\n",
            "|   |   |   |   |--- AspectRation >  1.84\n",
            "|   |   |   |   |   |--- ShapeFactor2 <= 0.00\n",
            "|   |   |   |   |   |   |--- Compactness <= 0.73\n",
            "|   |   |   |   |   |   |   |--- MinorAxisLength <= 201.91\n",
            "|   |   |   |   |   |   |   |   |--- Solidity <= 0.98\n",
            "|   |   |   |   |   |   |   |   |   |--- Solidity <= 0.98\n",
            "|   |   |   |   |   |   |   |   |   |   |--- class: 4\n",
            "|   |   |   |   |   |   |   |   |   |--- Solidity >  0.98\n",
            "|   |   |   |   |   |   |   |   |   |   |--- class: 4\n",
            "|   |   |   |   |   |   |   |   |--- Solidity >  0.98\n",
            "|   |   |   |   |   |   |   |   |   |--- ShapeFactor4 <= 1.00\n",
            "|   |   |   |   |   |   |   |   |   |   |--- class: 4\n",
            "|   |   |   |   |   |   |   |   |   |--- ShapeFactor4 >  1.00\n",
            "|   |   |   |   |   |   |   |   |   |   |--- class: 4\n",
            "|   |   |   |   |   |   |   |--- MinorAxisLength >  201.91\n",
            "|   |   |   |   |   |   |   |   |--- Area <= 61558.50\n",
            "|   |   |   |   |   |   |   |   |   |--- class: 2\n",
            "|   |   |   |   |   |   |   |   |--- Area >  61558.50\n",
            "|   |   |   |   |   |   |   |   |   |--- Solidity <= 0.98\n",
            "|   |   |   |   |   |   |   |   |   |   |--- class: 4\n",
            "|   |   |   |   |   |   |   |   |   |--- Solidity >  0.98\n",
            "|   |   |   |   |   |   |   |   |   |   |--- class: 4\n",
            "|   |   |   |   |   |   |--- Compactness >  0.73\n",
            "|   |   |   |   |   |   |   |--- class: 4\n",
            "|   |   |   |   |   |--- ShapeFactor2 >  0.00\n",
            "|   |   |   |   |   |   |--- class: 4\n",
            "|   |   |   |--- roundness >  0.84\n",
            "|   |   |   |   |--- Perimeter <= 900.40\n",
            "|   |   |   |   |   |--- Compactness <= 0.74\n",
            "|   |   |   |   |   |   |--- class: 4\n",
            "|   |   |   |   |   |--- Compactness >  0.74\n",
            "|   |   |   |   |   |   |--- ShapeFactor2 <= 0.00\n",
            "|   |   |   |   |   |   |   |--- roundness <= 0.84\n",
            "|   |   |   |   |   |   |   |   |--- class: 6\n",
            "|   |   |   |   |   |   |   |--- roundness >  0.84\n",
            "|   |   |   |   |   |   |   |   |--- roundness <= 0.89\n",
            "|   |   |   |   |   |   |   |   |   |--- class: 6\n",
            "|   |   |   |   |   |   |   |   |--- roundness >  0.89\n",
            "|   |   |   |   |   |   |   |   |   |--- class: 6\n",
            "|   |   |   |   |   |   |--- ShapeFactor2 >  0.00\n",
            "|   |   |   |   |   |   |   |--- class: 6\n",
            "|   |   |   |   |--- Perimeter >  900.40\n",
            "|   |   |   |   |   |--- MinorAxisLength <= 203.58\n",
            "|   |   |   |   |   |   |--- ShapeFactor4 <= 0.99\n",
            "|   |   |   |   |   |   |   |--- class: 4\n",
            "|   |   |   |   |   |   |--- ShapeFactor4 >  0.99\n",
            "|   |   |   |   |   |   |   |--- class: 6\n",
            "|   |   |   |   |   |--- MinorAxisLength >  203.58\n",
            "|   |   |   |   |   |   |--- ShapeFactor4 <= 1.00\n",
            "|   |   |   |   |   |   |   |--- Extent <= 0.75\n",
            "|   |   |   |   |   |   |   |   |--- class: 6\n",
            "|   |   |   |   |   |   |   |--- Extent >  0.75\n",
            "|   |   |   |   |   |   |   |   |--- class: 2\n",
            "|   |   |   |   |   |   |--- ShapeFactor4 >  1.00\n",
            "|   |   |   |   |   |   |   |--- Compactness <= 0.77\n",
            "|   |   |   |   |   |   |   |   |--- class: 0\n",
            "|   |   |   |   |   |   |   |--- Compactness >  0.77\n",
            "|   |   |   |   |   |   |   |   |--- class: 0\n",
            "\n"
          ]
        }
      ]
    },
    {
      "cell_type": "code",
      "source": [
        "!pip install shap"
      ],
      "metadata": {
        "colab": {
          "base_uri": "https://localhost:8080/"
        },
        "id": "LArwJvrNZKL2",
        "outputId": "9e9b81d4-c2a1-4224-fb6c-b29fe491a706"
      },
      "id": "LArwJvrNZKL2",
      "execution_count": 31,
      "outputs": [
        {
          "output_type": "stream",
          "name": "stdout",
          "text": [
            "Looking in indexes: https://pypi.org/simple, https://us-python.pkg.dev/colab-wheels/public/simple/\n",
            "Collecting shap\n",
            "  Downloading shap-0.41.0-cp310-cp310-manylinux_2_12_x86_64.manylinux2010_x86_64.whl (572 kB)\n",
            "\u001b[2K     \u001b[90m━━━━━━━━━━━━━━━━━━━━━━━━━━━━━━━━━━━━━━━\u001b[0m \u001b[32m572.6/572.6 kB\u001b[0m \u001b[31m8.6 MB/s\u001b[0m eta \u001b[36m0:00:00\u001b[0m\n",
            "\u001b[?25hRequirement already satisfied: scikit-learn in /usr/local/lib/python3.10/dist-packages (from shap) (1.2.2)\n",
            "Requirement already satisfied: tqdm>4.25.0 in /usr/local/lib/python3.10/dist-packages (from shap) (4.65.0)\n",
            "Requirement already satisfied: packaging>20.9 in /usr/local/lib/python3.10/dist-packages (from shap) (23.1)\n",
            "Requirement already satisfied: numba in /usr/local/lib/python3.10/dist-packages (from shap) (0.56.4)\n",
            "Requirement already satisfied: pandas in /usr/local/lib/python3.10/dist-packages (from shap) (1.5.3)\n",
            "Requirement already satisfied: scipy in /usr/local/lib/python3.10/dist-packages (from shap) (1.10.1)\n",
            "Requirement already satisfied: numpy in /usr/local/lib/python3.10/dist-packages (from shap) (1.22.4)\n",
            "Requirement already satisfied: cloudpickle in /usr/local/lib/python3.10/dist-packages (from shap) (2.2.1)\n",
            "Collecting slicer==0.0.7\n",
            "  Downloading slicer-0.0.7-py3-none-any.whl (14 kB)\n",
            "Requirement already satisfied: llvmlite<0.40,>=0.39.0dev0 in /usr/local/lib/python3.10/dist-packages (from numba->shap) (0.39.1)\n",
            "Requirement already satisfied: setuptools in /usr/local/lib/python3.10/dist-packages (from numba->shap) (67.7.2)\n",
            "Requirement already satisfied: python-dateutil>=2.8.1 in /usr/local/lib/python3.10/dist-packages (from pandas->shap) (2.8.2)\n",
            "Requirement already satisfied: pytz>=2020.1 in /usr/local/lib/python3.10/dist-packages (from pandas->shap) (2022.7.1)\n",
            "Requirement already satisfied: threadpoolctl>=2.0.0 in /usr/local/lib/python3.10/dist-packages (from scikit-learn->shap) (3.1.0)\n",
            "Requirement already satisfied: joblib>=1.1.1 in /usr/local/lib/python3.10/dist-packages (from scikit-learn->shap) (1.2.0)\n",
            "Requirement already satisfied: six>=1.5 in /usr/local/lib/python3.10/dist-packages (from python-dateutil>=2.8.1->pandas->shap) (1.16.0)\n",
            "Installing collected packages: slicer, shap\n",
            "Successfully installed shap-0.41.0 slicer-0.0.7\n"
          ]
        }
      ]
    },
    {
      "cell_type": "code",
      "source": [
        "import shap\n",
        "\n",
        "# explain the model's predictions using SHAP values\n",
        "explainer = shap.Explainer(pruned_dt_clf.predict, x_train_resampled)\n",
        "shap_values = explainer(x_test)"
      ],
      "metadata": {
        "colab": {
          "base_uri": "https://localhost:8080/"
        },
        "id": "HCMIhbrbZyn8",
        "outputId": "3ae891d0-94eb-4818-d865-20ec2bcb9e03"
      },
      "id": "HCMIhbrbZyn8",
      "execution_count": 32,
      "outputs": [
        {
          "output_type": "stream",
          "name": "stderr",
          "text": [
            "Permutation explainer: 9529it [07:01, 22.56it/s]\n"
          ]
        }
      ]
    },
    {
      "cell_type": "code",
      "source": [
        "# visualize the first prediction's explanation (use matplotlib=True to avoid Javascript)\n",
        "shap.summary_plot(shap_values, x_test)"
      ],
      "metadata": {
        "colab": {
          "base_uri": "https://localhost:8080/",
          "height": 797
        },
        "id": "CnggASCZZ5zk",
        "outputId": "8e0089e2-7a36-4acd-a5e9-3fedf4a7c5e9"
      },
      "id": "CnggASCZZ5zk",
      "execution_count": 33,
      "outputs": [
        {
          "output_type": "display_data",
          "data": {
            "text/plain": [
              "<Figure size 800x790 with 2 Axes>"
            ],
            "image/png": "[encoded data removed]"
          },
          "metadata": {}
        }
      ]
    },
    {
      "cell_type": "code",
      "source": [],
      "metadata": {
        "id": "iK_4-mAPdp0F"
      },
      "id": "iK_4-mAPdp0F",
      "execution_count": 33,
      "outputs": []
    }
  ],
  "metadata": {
    "kernelspec": {
      "display_name": "Python 3 (ipykernel)",
      "language": "python",
      "name": "python3"
    },
    "language_info": {
      "codemirror_mode": {
        "name": "ipython",
        "version": 3
      },
      "file_extension": ".py",
      "mimetype": "text/x-python",
      "name": "python",
      "nbconvert_exporter": "python",
      "pygments_lexer": "ipython3",
      "version": "3.9.12"
    },
    "colab": {
      "provenance": [],
      "include_colab_link": true
    }
  },
  "nbformat": 4,
  "nbformat_minor": 5
}