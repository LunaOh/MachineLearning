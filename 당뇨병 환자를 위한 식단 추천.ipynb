{
  "nbformat": 4,
  "nbformat_minor": 0,
  "metadata": {
    "colab": {
      "provenance": [],
      "mount_file_id": "1c3lScEfc8LhzTPkIua3N8OUQaiJ-Xv59",
      "authorship_tag": "ABX9TyNjqlUZk08LrtlaodVqyUWR"
    },
    "kernelspec": {
      "name": "python3",
      "display_name": "Python 3"
    },
    "language_info": {
      "name": "python"
    }
  },
  "cells": [
    {
      "cell_type": "code",
      "execution_count": null,
      "metadata": {
        "id": "HB3ZR3tR29Al"
      },
      "outputs": [],
      "source": [
        "import pandas as pd\n",
        "import numpy as np\n",
        "from sklearn.metrics.pairwise import cosine_similarity\n",
        "\n",
        "data = pd.read_excel('/content/drive/MyDrive/캡스톤/캡스톤_당뇨식단.xlsx')"
      ]
    },
    {
      "cell_type": "code",
      "source": [
        "data=data.fillna(0)"
      ],
      "metadata": {
        "id": "6lX7P-q33BU4"
      },
      "execution_count": null,
      "outputs": []
    },
    {
      "cell_type": "code",
      "source": [
        "# 사용자 입력 받기\n",
        "preference_meat = int(input(\"육류 선호도(0 또는 1): \"))\n",
        "preference_fish = int(input(\"어류 선호도(0 또는 1): \"))\n",
        "preference_noodles = int(input(\"면류 선호도(0 또는 1): \"))\n",
        "preference_rice = int(input(\"밥류 선호도(0 또는 1): \"))\n",
        "preference_spicy = int(input(\"매운맛 선호도(0 또는 1): \"))\n",
        "gender = input(\"성별(남성 또는 여성): \")\n",
        "height = float(input(\"키(cm): \"))\n",
        "weight = float(input(\"몸무게(kg): \"))\n",
        "activity_level = input(\"활동량(가벼운 활동, 중증도 활동, 심한 활동): \")\n",
        "\n",
        "# 표준체중 및 1일 총 열량 계산\n",
        "if gender == '남성':\n",
        "    standard_weight = (height / 100) ** 2 * 22\n",
        "else:\n",
        "    standard_weight = (height / 100) ** 2 * 21\n",
        "\n",
        "if activity_level == '가벼운 활동':\n",
        "    calorie_range = (standard_weight * 25, standard_weight * 30)\n",
        "elif activity_level == '중증도 활동':\n",
        "    calorie_range = (standard_weight * 30, standard_weight * 35)\n",
        "elif activity_level == '심한 활동':\n",
        "    calorie_range = (standard_weight * 35, standard_weight * 40)\n",
        "else:\n",
        "    print(\"잘못된 활동량을 입력하셨습니다.\")\n",
        "    exit()\n",
        "\n",
        "# 필요한 열량 계산\n",
        "target_calories = (calorie_range[0] + calorie_range[1]) / 2  # 필요한 열량 범위의 중간값으로 설정\n",
        "\n",
        "# 필요한 열만 선택\n",
        "filtered_data = data[['하루칼로리', '메뉴구분', '메뉴1', '메뉴2', '메뉴3', '메뉴4', '메뉴5', '메뉴6', '육류', '어류', '면류', '밥류', '매운맛']]\n",
        "\n",
        "# 추천 식단 생성\n",
        "if target_calories <= 1500:\n",
        "    recommended_calories = 1400\n",
        "elif target_calories <= 1700:\n",
        "    recommended_calories = 1600\n",
        "elif target_calories <= 1900:\n",
        "    recommended_calories = 1800\n",
        "else:\n",
        "    recommended_calories = 2000\n",
        "\n",
        "# 아침, 점심, 저녁 식단 추천\n",
        "filtered_data_meals = filtered_data[\n",
        "    (filtered_data['메뉴구분'] == '아침') |\n",
        "    (filtered_data['메뉴구분'] == '점심') |\n",
        "    (filtered_data['메뉴구분'] == '저녁')\n",
        "]\n",
        "\n",
        "filtered_data_meals = filtered_data_meals[\n",
        "    (filtered_data_meals['하루칼로리'] == recommended_calories) &\n",
        "    (\n",
        "        (\n",
        "            (preference_meat == 1) & ((filtered_data_meals['육류'] == 1) | (filtered_data_meals['육류'] == 0)) |\n",
        "            (preference_fish == 1) & ((filtered_data_meals['어류'] == 1) | (filtered_data_meals['어류'] == 0)) |\n",
        "            (preference_noodles == 1) & ((filtered_data_meals['면류'] == 1) | (filtered_data_meals['면류'] == 0)) |\n",
        "            (preference_rice == 1) & ((filtered_data_meals['밥류'] == 1) | (filtered_data_meals['밥류'] == 0)) |\n",
        "            (preference_spicy == 1) & ((filtered_data_meals['매운맛'] == 1) | (filtered_data_meals['매운맛'] == 0))\n",
        "        ) |\n",
        "        (\n",
        "            (preference_meat == 0) & (preference_fish == 0) & (preference_noodles == 0) & (preference_rice == 0) & (preference_spicy == 0)\n",
        "        )\n",
        "    ) &\n",
        "    (\n",
        "        ~(\n",
        "            (preference_meat == 0) & (filtered_data_meals['육류'] == 1) |\n",
        "            (preference_fish == 0) & (filtered_data_meals['어류'] == 1) |\n",
        "            (preference_noodles == 0) & (filtered_data_meals['면류'] == 1) |\n",
        "            (preference_rice == 0) & (filtered_data_meals['밥류'] == 1) |\n",
        "            (preference_spicy == 0) & (filtered_data_meals['매운맛'] == 1)\n",
        "        )\n",
        "    )\n",
        "]\n",
        "\n",
        "\n",
        "# 아침, 점심, 저녁 각각 1개의 식단 랜덤 추천\n",
        "recommended_meals = []\n",
        "meal_types = ['아침', '점심', '저녁']\n",
        "for meal_type in meal_types:\n",
        "    filtered_meals_type = filtered_data_meals[filtered_data_meals['메뉴구분'] == meal_type]\n",
        "    if len(filtered_meals_type) > 0:\n",
        "        random_meal_index = np.random.randint(0, len(filtered_meals_type))\n",
        "        recommended_meal = filtered_meals_type.iloc[random_meal_index]\n",
        "        recommended_meals.append(recommended_meal)\n",
        "    else:\n",
        "        # 추천되는 식단이 없는 경우 다른 식단 카테고리에서 선택\n",
        "        other_meal_types = [m for m in meal_types if m != meal_type]\n",
        "        for other_meal_type in other_meal_types:\n",
        "            filtered_meals_type = filtered_data_meals[filtered_data_meals['메뉴구분'] == other_meal_type]\n",
        "            if len(filtered_meals_type) > 0:\n",
        "                random_meal_index = np.random.randint(0, len(filtered_meals_type))\n",
        "                recommended_meal = filtered_meals_type.iloc[random_meal_index]\n",
        "                recommended_meals.append(recommended_meal)\n",
        "                break\n",
        "\n",
        "# 간식 식단 추천\n",
        "filtered_data_snacks = filtered_data[filtered_data['메뉴구분'] == '간식']\n",
        "if len(filtered_data_snacks) > 0:\n",
        "    random_snack_index1 = np.random.randint(0, len(filtered_data_snacks))\n",
        "    recommended_snack1 = filtered_data_snacks.iloc[random_snack_index1]\n",
        "    recommended_meals.insert(2, recommended_snack1)\n",
        "\n",
        "    # 다른 간식 식단 추천\n",
        "    filtered_data_snacks2 = filtered_data_snacks[filtered_data_snacks.index != random_snack_index1]\n",
        "    if len(filtered_data_snacks2) > 0:\n",
        "        random_snack_index2 = np.random.randint(0, len(filtered_data_snacks2))\n",
        "        recommended_snack2 = filtered_data_snacks2.iloc[random_snack_index2]\n",
        "        recommended_meals.append(recommended_snack2)\n",
        "    else:\n",
        "        recommended_meals.append(recommended_snack1)\n",
        "        print(\"다른 간식 식단이 없어 같은 간식 식단이 중복으로 추가되었습니다.\")\n",
        "else:\n",
        "    print(\"추천할 간식이 없습니다.\")\n",
        "\n",
        "# 최종 추천 식단 출력\n",
        "print(\"=== 추천 식단 ===\")\n",
        "meal_types = ['아침', '점심', '간식', '저녁', '간식']\n",
        "for meal_type, meal in zip(meal_types, recommended_meals):\n",
        "    menu = [meal[f'메뉴{i+1}'] for i in range(6)]\n",
        "    menu_str = ', '.join([m if str(m) != '0' else '' for m in menu])\n",
        "    print(f\"{meal_type}: {menu_str.replace(', ,', '')}\")"
      ],
      "metadata": {
        "colab": {
          "base_uri": "https://localhost:8080/"
        },
        "id": "BM02XcjB3KaG",
        "outputId": "c8b45044-2bd2-493c-8224-91519fa47d9e"
      },
      "execution_count": null,
      "outputs": [
        {
          "output_type": "stream",
          "name": "stdout",
          "text": [
            "육류 선호도(0 또는 1): 1\n",
            "어류 선호도(0 또는 1): 0\n",
            "면류 선호도(0 또는 1): 1\n",
            "밥류 선호도(0 또는 1): 1\n",
            "매운맛 선호도(0 또는 1): 0\n",
            "성별(남성 또는 여성): 여성\n",
            "키(cm): 166\n",
            "몸무게(kg): 66\n",
            "활동량(가벼운 활동, 중증도 활동, 심한 활동): 중증도 활동\n",
            "=== 추천 식단 ===\n",
            "아침: 현미밥 2/3공기(밥 140g), 팽이버섯된장국, 사태찜(쇠고기 40g), 마늘종볶음, 오이생채, 배추김치\n",
            "점심: 열무김치국수(소면(삶) 270g, 달걀 1개, 열무김치), 가지양파볶음, 무나물 , \n",
            "간식: 우유 1컵(200ml)  , \n",
            "저녁: 잡곡밥 1공기(밥 210g), 아욱국, 불고기(쇠고기 80g), 배추쌈, 꽈리고추찜, 열무김치\n",
            "간식: 두유 1컵(200ml), 콘프레이트 3/4컵  \n"
          ]
        }
      ]
    },
    {
      "cell_type": "code",
      "source": [],
      "metadata": {
        "id": "I6rboXIG3QMa"
      },
      "execution_count": null,
      "outputs": []
    }
  ]
}