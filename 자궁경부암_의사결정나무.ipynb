{
  "cells": [
    {
      "cell_type": "markdown",
      "metadata": {
        "id": "view-in-github",
        "colab_type": "text"
      },
      "source": [
        "<a href=\"https://colab.research.google.com/github/LunaOh/MachineLearning/blob/main/%E1%84%8C%E1%85%A1%E1%84%80%E1%85%AE%E1%86%BC%E1%84%80%E1%85%A7%E1%86%BC%E1%84%87%E1%85%AE%E1%84%8B%E1%85%A1%E1%86%B7_%EC%9D%98%EC%82%AC%EA%B2%B0%EC%A0%95%EB%82%98%EB%AC%B4.ipynb\" target=\"_parent\"><img src=\"https://colab.research.google.com/assets/colab-badge.svg\" alt=\"Open In Colab\"/></a>"
      ]
    },
    {
      "cell_type": "code",
      "source": [
        "from google.colab import drive\n",
        "drive.mount('/content/drive')"
      ],
      "metadata": {
        "colab": {
          "base_uri": "https://localhost:8080/"
        },
        "id": "SODftfvc356F",
        "outputId": "c65e704a-2502-431b-f72c-da064414e2db"
      },
      "id": "SODftfvc356F",
      "execution_count": 1,
      "outputs": [
        {
          "output_type": "stream",
          "name": "stdout",
          "text": [
            "Mounted at /content/drive\n"
          ]
        }
      ]
    },
    {
      "cell_type": "code",
      "execution_count": 2,
      "id": "96a544a9",
      "metadata": {
        "id": "96a544a9"
      },
      "outputs": [],
      "source": [
        "import pandas as pd\n",
        "\n",
        "from sklearn.tree import DecisionTreeClassifier\n",
        "from sklearn.datasets import load_breast_cancer # 사용할 dataset (유방암데이터)\n",
        "from sklearn.model_selection import train_test_split # 학습, 테스트set 구분\n",
        "from sklearn.tree import export_graphviz # tree 시각화를 위해\n",
        "# export_graphviz : 의사결정나무에 대한 graphviz dot data 생성하는 함수\n",
        "import graphviz # tree 시각화\n",
        "import sklearn.metrics as mt # 성능지표를 계산하기 위해 import\n",
        "from sklearn.model_selection import cross_val_score, cross_validate # 교차검증\n",
        "\n",
        "import warnings\n",
        "warnings.filterwarnings('ignore')"
      ]
    },
    {
      "cell_type": "code",
      "execution_count": 3,
      "id": "c2c024ae",
      "metadata": {
        "id": "c2c024ae"
      },
      "outputs": [],
      "source": [
        "df = pd.read_csv('/content/drive/MyDrive/기계학습/sobar-72 (2).csv')"
      ]
    },
    {
      "cell_type": "code",
      "execution_count": 4,
      "id": "62a05da6",
      "metadata": {
        "colab": {
          "base_uri": "https://localhost:8080/",
          "height": 270
        },
        "id": "62a05da6",
        "outputId": "7db1685b-3212-4afd-999d-e6cd62e93320"
      },
      "outputs": [
        {
          "output_type": "execute_result",
          "data": {
            "text/plain": [
              "   behavior_sexualRisk  behavior_eating  behavior_personalHygine  \\\n",
              "0                   10               13                       12   \n",
              "1                   10               11                       11   \n",
              "2                   10               15                        3   \n",
              "3                   10               11                       10   \n",
              "4                    8               11                        7   \n",
              "\n",
              "   intention_aggregation  intention_commitment  attitude_consistency  \\\n",
              "0                      4                     7                     9   \n",
              "1                     10                    14                     7   \n",
              "2                      2                    14                     8   \n",
              "3                     10                    15                     7   \n",
              "4                      8                    10                     7   \n",
              "\n",
              "   attitude_spontaneity  norm_significantPerson  norm_fulfillment  \\\n",
              "0                    10                       1                 8   \n",
              "1                     7                       5                 5   \n",
              "2                    10                       1                 4   \n",
              "3                     7                       1                 5   \n",
              "4                     8                       1                 5   \n",
              "\n",
              "   perception_vulnerability  perception_severity  motivation_strength  \\\n",
              "0                         7                    3                   14   \n",
              "1                         4                    2                   15   \n",
              "2                         7                    2                    7   \n",
              "3                         4                    2                   15   \n",
              "4                         3                    2                   15   \n",
              "\n",
              "   motivation_willingness  socialSupport_emotionality  \\\n",
              "0                       8                           5   \n",
              "1                      13                           7   \n",
              "2                       3                           3   \n",
              "3                      13                           7   \n",
              "4                       5                           3   \n",
              "\n",
              "   socialSupport_appreciation  socialSupport_instrumental  \\\n",
              "0                           7                          12   \n",
              "1                           6                           5   \n",
              "2                           6                          11   \n",
              "3                           4                           4   \n",
              "4                           6                          12   \n",
              "\n",
              "   empowerment_knowledge  empowerment_abilities  empowerment_desires  \\\n",
              "0                     12                     11                    8   \n",
              "1                      5                      4                    4   \n",
              "2                      3                      3                   15   \n",
              "3                      4                      4                    4   \n",
              "4                      5                      4                    7   \n",
              "\n",
              "   ca_cervix  \n",
              "0          1  \n",
              "1          1  \n",
              "2          1  \n",
              "3          1  \n",
              "4          1  "
            ],
            "text/html": [
              "\n",
              "  <div id=\"df-7356b623-9027-4b61-9a73-f386d31c6e96\">\n",
              "    <div class=\"colab-df-container\">\n",
              "      <div>\n",
              "<style scoped>\n",
              "    .dataframe tbody tr th:only-of-type {\n",
              "        vertical-align: middle;\n",
              "    }\n",
              "\n",
              "    .dataframe tbody tr th {\n",
              "        vertical-align: top;\n",
              "    }\n",
              "\n",
              "    .dataframe thead th {\n",
              "        text-align: right;\n",
              "    }\n",
              "</style>\n",
              "<table border=\"1\" class=\"dataframe\">\n",
              "  <thead>\n",
              "    <tr style=\"text-align: right;\">\n",
              "      <th></th>\n",
              "      <th>behavior_sexualRisk</th>\n",
              "      <th>behavior_eating</th>\n",
              "      <th>behavior_personalHygine</th>\n",
              "      <th>intention_aggregation</th>\n",
              "      <th>intention_commitment</th>\n",
              "      <th>attitude_consistency</th>\n",
              "      <th>attitude_spontaneity</th>\n",
              "      <th>norm_significantPerson</th>\n",
              "      <th>norm_fulfillment</th>\n",
              "      <th>perception_vulnerability</th>\n",
              "      <th>perception_severity</th>\n",
              "      <th>motivation_strength</th>\n",
              "      <th>motivation_willingness</th>\n",
              "      <th>socialSupport_emotionality</th>\n",
              "      <th>socialSupport_appreciation</th>\n",
              "      <th>socialSupport_instrumental</th>\n",
              "      <th>empowerment_knowledge</th>\n",
              "      <th>empowerment_abilities</th>\n",
              "      <th>empowerment_desires</th>\n",
              "      <th>ca_cervix</th>\n",
              "    </tr>\n",
              "  </thead>\n",
              "  <tbody>\n",
              "    <tr>\n",
              "      <th>0</th>\n",
              "      <td>10</td>\n",
              "      <td>13</td>\n",
              "      <td>12</td>\n",
              "      <td>4</td>\n",
              "      <td>7</td>\n",
              "      <td>9</td>\n",
              "      <td>10</td>\n",
              "      <td>1</td>\n",
              "      <td>8</td>\n",
              "      <td>7</td>\n",
              "      <td>3</td>\n",
              "      <td>14</td>\n",
              "      <td>8</td>\n",
              "      <td>5</td>\n",
              "      <td>7</td>\n",
              "      <td>12</td>\n",
              "      <td>12</td>\n",
              "      <td>11</td>\n",
              "      <td>8</td>\n",
              "      <td>1</td>\n",
              "    </tr>\n",
              "    <tr>\n",
              "      <th>1</th>\n",
              "      <td>10</td>\n",
              "      <td>11</td>\n",
              "      <td>11</td>\n",
              "      <td>10</td>\n",
              "      <td>14</td>\n",
              "      <td>7</td>\n",
              "      <td>7</td>\n",
              "      <td>5</td>\n",
              "      <td>5</td>\n",
              "      <td>4</td>\n",
              "      <td>2</td>\n",
              "      <td>15</td>\n",
              "      <td>13</td>\n",
              "      <td>7</td>\n",
              "      <td>6</td>\n",
              "      <td>5</td>\n",
              "      <td>5</td>\n",
              "      <td>4</td>\n",
              "      <td>4</td>\n",
              "      <td>1</td>\n",
              "    </tr>\n",
              "    <tr>\n",
              "      <th>2</th>\n",
              "      <td>10</td>\n",
              "      <td>15</td>\n",
              "      <td>3</td>\n",
              "      <td>2</td>\n",
              "      <td>14</td>\n",
              "      <td>8</td>\n",
              "      <td>10</td>\n",
              "      <td>1</td>\n",
              "      <td>4</td>\n",
              "      <td>7</td>\n",
              "      <td>2</td>\n",
              "      <td>7</td>\n",
              "      <td>3</td>\n",
              "      <td>3</td>\n",
              "      <td>6</td>\n",
              "      <td>11</td>\n",
              "      <td>3</td>\n",
              "      <td>3</td>\n",
              "      <td>15</td>\n",
              "      <td>1</td>\n",
              "    </tr>\n",
              "    <tr>\n",
              "      <th>3</th>\n",
              "      <td>10</td>\n",
              "      <td>11</td>\n",
              "      <td>10</td>\n",
              "      <td>10</td>\n",
              "      <td>15</td>\n",
              "      <td>7</td>\n",
              "      <td>7</td>\n",
              "      <td>1</td>\n",
              "      <td>5</td>\n",
              "      <td>4</td>\n",
              "      <td>2</td>\n",
              "      <td>15</td>\n",
              "      <td>13</td>\n",
              "      <td>7</td>\n",
              "      <td>4</td>\n",
              "      <td>4</td>\n",
              "      <td>4</td>\n",
              "      <td>4</td>\n",
              "      <td>4</td>\n",
              "      <td>1</td>\n",
              "    </tr>\n",
              "    <tr>\n",
              "      <th>4</th>\n",
              "      <td>8</td>\n",
              "      <td>11</td>\n",
              "      <td>7</td>\n",
              "      <td>8</td>\n",
              "      <td>10</td>\n",
              "      <td>7</td>\n",
              "      <td>8</td>\n",
              "      <td>1</td>\n",
              "      <td>5</td>\n",
              "      <td>3</td>\n",
              "      <td>2</td>\n",
              "      <td>15</td>\n",
              "      <td>5</td>\n",
              "      <td>3</td>\n",
              "      <td>6</td>\n",
              "      <td>12</td>\n",
              "      <td>5</td>\n",
              "      <td>4</td>\n",
              "      <td>7</td>\n",
              "      <td>1</td>\n",
              "    </tr>\n",
              "  </tbody>\n",
              "</table>\n",
              "</div>\n",
              "      <button class=\"colab-df-convert\" onclick=\"convertToInteractive('df-7356b623-9027-4b61-9a73-f386d31c6e96')\"\n",
              "              title=\"Convert this dataframe to an interactive table.\"\n",
              "              style=\"display:none;\">\n",
              "        \n",
              "  <svg xmlns=\"http://www.w3.org/2000/svg\" height=\"24px\"viewBox=\"0 0 24 24\"\n",
              "       width=\"24px\">\n",
              "    <path d=\"M0 0h24v24H0V0z\" fill=\"none\"/>\n",
              "    <path d=\"M18.56 5.44l.94 2.06.94-2.06 2.06-.94-2.06-.94-.94-2.06-.94 2.06-2.06.94zm-11 1L8.5 8.5l.94-2.06 2.06-.94-2.06-.94L8.5 2.5l-.94 2.06-2.06.94zm10 10l.94 2.06.94-2.06 2.06-.94-2.06-.94-.94-2.06-.94 2.06-2.06.94z\"/><path d=\"M17.41 7.96l-1.37-1.37c-.4-.4-.92-.59-1.43-.59-.52 0-1.04.2-1.43.59L10.3 9.45l-7.72 7.72c-.78.78-.78 2.05 0 2.83L4 21.41c.39.39.9.59 1.41.59.51 0 1.02-.2 1.41-.59l7.78-7.78 2.81-2.81c.8-.78.8-2.07 0-2.86zM5.41 20L4 18.59l7.72-7.72 1.47 1.35L5.41 20z\"/>\n",
              "  </svg>\n",
              "      </button>\n",
              "      \n",
              "  <style>\n",
              "    .colab-df-container {\n",
              "      display:flex;\n",
              "      flex-wrap:wrap;\n",
              "      gap: 12px;\n",
              "    }\n",
              "\n",
              "    .colab-df-convert {\n",
              "      background-color: #E8F0FE;\n",
              "      border: none;\n",
              "      border-radius: 50%;\n",
              "      cursor: pointer;\n",
              "      display: none;\n",
              "      fill: #1967D2;\n",
              "      height: 32px;\n",
              "      padding: 0 0 0 0;\n",
              "      width: 32px;\n",
              "    }\n",
              "\n",
              "    .colab-df-convert:hover {\n",
              "      background-color: #E2EBFA;\n",
              "      box-shadow: 0px 1px 2px rgba(60, 64, 67, 0.3), 0px 1px 3px 1px rgba(60, 64, 67, 0.15);\n",
              "      fill: #174EA6;\n",
              "    }\n",
              "\n",
              "    [theme=dark] .colab-df-convert {\n",
              "      background-color: #3B4455;\n",
              "      fill: #D2E3FC;\n",
              "    }\n",
              "\n",
              "    [theme=dark] .colab-df-convert:hover {\n",
              "      background-color: #434B5C;\n",
              "      box-shadow: 0px 1px 3px 1px rgba(0, 0, 0, 0.15);\n",
              "      filter: drop-shadow(0px 1px 2px rgba(0, 0, 0, 0.3));\n",
              "      fill: #FFFFFF;\n",
              "    }\n",
              "  </style>\n",
              "\n",
              "      <script>\n",
              "        const buttonEl =\n",
              "          document.querySelector('#df-7356b623-9027-4b61-9a73-f386d31c6e96 button.colab-df-convert');\n",
              "        buttonEl.style.display =\n",
              "          google.colab.kernel.accessAllowed ? 'block' : 'none';\n",
              "\n",
              "        async function convertToInteractive(key) {\n",
              "          const element = document.querySelector('#df-7356b623-9027-4b61-9a73-f386d31c6e96');\n",
              "          const dataTable =\n",
              "            await google.colab.kernel.invokeFunction('convertToInteractive',\n",
              "                                                     [key], {});\n",
              "          if (!dataTable) return;\n",
              "\n",
              "          const docLinkHtml = 'Like what you see? Visit the ' +\n",
              "            '<a target=\"_blank\" href=https://colab.research.google.com/notebooks/data_table.ipynb>data table notebook</a>'\n",
              "            + ' to learn more about interactive tables.';\n",
              "          element.innerHTML = '';\n",
              "          dataTable['output_type'] = 'display_data';\n",
              "          await google.colab.output.renderOutput(dataTable, element);\n",
              "          const docLink = document.createElement('div');\n",
              "          docLink.innerHTML = docLinkHtml;\n",
              "          element.appendChild(docLink);\n",
              "        }\n",
              "      </script>\n",
              "    </div>\n",
              "  </div>\n",
              "  "
            ]
          },
          "metadata": {},
          "execution_count": 4
        }
      ],
      "source": [
        "df.head()"
      ]
    },
    {
      "cell_type": "code",
      "execution_count": 5,
      "id": "235efbda",
      "metadata": {
        "colab": {
          "base_uri": "https://localhost:8080/"
        },
        "id": "235efbda",
        "outputId": "80ad309d-3f03-4cbd-bcb9-98d595f21137"
      },
      "outputs": [
        {
          "output_type": "stream",
          "name": "stdout",
          "text": [
            "(72, 20)\n"
          ]
        }
      ],
      "source": [
        "print(df.shape)"
      ]
    },
    {
      "cell_type": "code",
      "execution_count": 6,
      "id": "fc302c3b",
      "metadata": {
        "colab": {
          "base_uri": "https://localhost:8080/"
        },
        "id": "fc302c3b",
        "outputId": "61186578-c294-4cf4-c96e-21d977424501"
      },
      "outputs": [
        {
          "output_type": "stream",
          "name": "stdout",
          "text": [
            "<class 'pandas.core.frame.DataFrame'>\n",
            "RangeIndex: 72 entries, 0 to 71\n",
            "Data columns (total 20 columns):\n",
            " #   Column                      Non-Null Count  Dtype\n",
            "---  ------                      --------------  -----\n",
            " 0   behavior_sexualRisk         72 non-null     int64\n",
            " 1   behavior_eating             72 non-null     int64\n",
            " 2   behavior_personalHygine     72 non-null     int64\n",
            " 3   intention_aggregation       72 non-null     int64\n",
            " 4   intention_commitment        72 non-null     int64\n",
            " 5   attitude_consistency        72 non-null     int64\n",
            " 6   attitude_spontaneity        72 non-null     int64\n",
            " 7   norm_significantPerson      72 non-null     int64\n",
            " 8   norm_fulfillment            72 non-null     int64\n",
            " 9   perception_vulnerability    72 non-null     int64\n",
            " 10  perception_severity         72 non-null     int64\n",
            " 11  motivation_strength         72 non-null     int64\n",
            " 12  motivation_willingness      72 non-null     int64\n",
            " 13  socialSupport_emotionality  72 non-null     int64\n",
            " 14  socialSupport_appreciation  72 non-null     int64\n",
            " 15  socialSupport_instrumental  72 non-null     int64\n",
            " 16  empowerment_knowledge       72 non-null     int64\n",
            " 17  empowerment_abilities       72 non-null     int64\n",
            " 18  empowerment_desires         72 non-null     int64\n",
            " 19  ca_cervix                   72 non-null     int64\n",
            "dtypes: int64(20)\n",
            "memory usage: 11.4 KB\n"
          ]
        }
      ],
      "source": [
        "df.info()"
      ]
    },
    {
      "cell_type": "code",
      "execution_count": 7,
      "id": "7cb0d4e6",
      "metadata": {
        "colab": {
          "base_uri": "https://localhost:8080/",
          "height": 364
        },
        "id": "7cb0d4e6",
        "outputId": "4b2e62cf-1d80-47f1-ed95-a00368d12ff3"
      },
      "outputs": [
        {
          "output_type": "execute_result",
          "data": {
            "text/plain": [
              "       behavior_sexualRisk  behavior_eating  behavior_personalHygine  \\\n",
              "count            72.000000        72.000000                72.000000   \n",
              "mean              9.666667        12.791667                11.083333   \n",
              "std               1.186782         2.361293                 3.033847   \n",
              "min               2.000000         3.000000                 3.000000   \n",
              "25%              10.000000        11.000000                 9.000000   \n",
              "50%              10.000000        13.000000                11.000000   \n",
              "75%              10.000000        15.000000                14.000000   \n",
              "max              10.000000        15.000000                15.000000   \n",
              "\n",
              "       intention_aggregation  intention_commitment  attitude_consistency  \\\n",
              "count              72.000000             72.000000             72.000000   \n",
              "mean                7.902778             13.347222              7.180556   \n",
              "std                 2.738148              2.374511              1.522844   \n",
              "min                 2.000000              6.000000              2.000000   \n",
              "25%                 6.000000             11.000000              6.000000   \n",
              "50%                10.000000             15.000000              7.000000   \n",
              "75%                10.000000             15.000000              8.000000   \n",
              "max                10.000000             15.000000             10.000000   \n",
              "\n",
              "       attitude_spontaneity  norm_significantPerson  norm_fulfillment  \\\n",
              "count             72.000000               72.000000         72.000000   \n",
              "mean               8.611111                3.125000          8.486111   \n",
              "std                1.515698                1.845722          4.907577   \n",
              "min                4.000000                1.000000          3.000000   \n",
              "25%                8.000000                1.000000          3.000000   \n",
              "50%                9.000000                3.000000          7.000000   \n",
              "75%               10.000000                5.000000         14.000000   \n",
              "max               10.000000                5.000000         15.000000   \n",
              "\n",
              "       perception_vulnerability  perception_severity  motivation_strength  \\\n",
              "count                 72.000000            72.000000            72.000000   \n",
              "mean                   8.513889             5.388889            12.652778   \n",
              "std                    4.275686             3.400727             3.207209   \n",
              "min                    3.000000             2.000000             3.000000   \n",
              "25%                    5.000000             2.000000            11.000000   \n",
              "50%                    8.000000             4.000000            14.000000   \n",
              "75%                   13.000000             9.000000            15.000000   \n",
              "max                   15.000000            10.000000            15.000000   \n",
              "\n",
              "       motivation_willingness  socialSupport_emotionality  \\\n",
              "count               72.000000                   72.000000   \n",
              "mean                 9.694444                    8.097222   \n",
              "std                  4.130406                    4.243171   \n",
              "min                  3.000000                    3.000000   \n",
              "25%                  7.000000                    3.000000   \n",
              "50%                 11.000000                    9.000000   \n",
              "75%                 13.000000                   11.250000   \n",
              "max                 15.000000                   15.000000   \n",
              "\n",
              "       socialSupport_appreciation  socialSupport_instrumental  \\\n",
              "count                   72.000000                   72.000000   \n",
              "mean                     6.166667                   10.375000   \n",
              "std                      2.897303                    4.316485   \n",
              "min                      2.000000                    3.000000   \n",
              "25%                      3.750000                    6.750000   \n",
              "50%                      6.500000                   12.000000   \n",
              "75%                      9.000000                   14.250000   \n",
              "max                     10.000000                   15.000000   \n",
              "\n",
              "       empowerment_knowledge  empowerment_abilities  empowerment_desires  \\\n",
              "count              72.000000              72.000000            72.000000   \n",
              "mean               10.541667               9.319444            10.277778   \n",
              "std                 4.366768               4.181874             4.482273   \n",
              "min                 3.000000               3.000000             3.000000   \n",
              "25%                 7.000000               5.000000             6.750000   \n",
              "50%                12.000000              10.000000            11.000000   \n",
              "75%                15.000000              13.000000            15.000000   \n",
              "max                15.000000              15.000000            15.000000   \n",
              "\n",
              "       ca_cervix  \n",
              "count  72.000000  \n",
              "mean    0.291667  \n",
              "std     0.457719  \n",
              "min     0.000000  \n",
              "25%     0.000000  \n",
              "50%     0.000000  \n",
              "75%     1.000000  \n",
              "max     1.000000  "
            ],
            "text/html": [
              "\n",
              "  <div id=\"df-dcb2e0ee-3796-4081-ba6c-8b0995dfa349\">\n",
              "    <div class=\"colab-df-container\">\n",
              "      <div>\n",
              "<style scoped>\n",
              "    .dataframe tbody tr th:only-of-type {\n",
              "        vertical-align: middle;\n",
              "    }\n",
              "\n",
              "    .dataframe tbody tr th {\n",
              "        vertical-align: top;\n",
              "    }\n",
              "\n",
              "    .dataframe thead th {\n",
              "        text-align: right;\n",
              "    }\n",
              "</style>\n",
              "<table border=\"1\" class=\"dataframe\">\n",
              "  <thead>\n",
              "    <tr style=\"text-align: right;\">\n",
              "      <th></th>\n",
              "      <th>behavior_sexualRisk</th>\n",
              "      <th>behavior_eating</th>\n",
              "      <th>behavior_personalHygine</th>\n",
              "      <th>intention_aggregation</th>\n",
              "      <th>intention_commitment</th>\n",
              "      <th>attitude_consistency</th>\n",
              "      <th>attitude_spontaneity</th>\n",
              "      <th>norm_significantPerson</th>\n",
              "      <th>norm_fulfillment</th>\n",
              "      <th>perception_vulnerability</th>\n",
              "      <th>perception_severity</th>\n",
              "      <th>motivation_strength</th>\n",
              "      <th>motivation_willingness</th>\n",
              "      <th>socialSupport_emotionality</th>\n",
              "      <th>socialSupport_appreciation</th>\n",
              "      <th>socialSupport_instrumental</th>\n",
              "      <th>empowerment_knowledge</th>\n",
              "      <th>empowerment_abilities</th>\n",
              "      <th>empowerment_desires</th>\n",
              "      <th>ca_cervix</th>\n",
              "    </tr>\n",
              "  </thead>\n",
              "  <tbody>\n",
              "    <tr>\n",
              "      <th>count</th>\n",
              "      <td>72.000000</td>\n",
              "      <td>72.000000</td>\n",
              "      <td>72.000000</td>\n",
              "      <td>72.000000</td>\n",
              "      <td>72.000000</td>\n",
              "      <td>72.000000</td>\n",
              "      <td>72.000000</td>\n",
              "      <td>72.000000</td>\n",
              "      <td>72.000000</td>\n",
              "      <td>72.000000</td>\n",
              "      <td>72.000000</td>\n",
              "      <td>72.000000</td>\n",
              "      <td>72.000000</td>\n",
              "      <td>72.000000</td>\n",
              "      <td>72.000000</td>\n",
              "      <td>72.000000</td>\n",
              "      <td>72.000000</td>\n",
              "      <td>72.000000</td>\n",
              "      <td>72.000000</td>\n",
              "      <td>72.000000</td>\n",
              "    </tr>\n",
              "    <tr>\n",
              "      <th>mean</th>\n",
              "      <td>9.666667</td>\n",
              "      <td>12.791667</td>\n",
              "      <td>11.083333</td>\n",
              "      <td>7.902778</td>\n",
              "      <td>13.347222</td>\n",
              "      <td>7.180556</td>\n",
              "      <td>8.611111</td>\n",
              "      <td>3.125000</td>\n",
              "      <td>8.486111</td>\n",
              "      <td>8.513889</td>\n",
              "      <td>5.388889</td>\n",
              "      <td>12.652778</td>\n",
              "      <td>9.694444</td>\n",
              "      <td>8.097222</td>\n",
              "      <td>6.166667</td>\n",
              "      <td>10.375000</td>\n",
              "      <td>10.541667</td>\n",
              "      <td>9.319444</td>\n",
              "      <td>10.277778</td>\n",
              "      <td>0.291667</td>\n",
              "    </tr>\n",
              "    <tr>\n",
              "      <th>std</th>\n",
              "      <td>1.186782</td>\n",
              "      <td>2.361293</td>\n",
              "      <td>3.033847</td>\n",
              "      <td>2.738148</td>\n",
              "      <td>2.374511</td>\n",
              "      <td>1.522844</td>\n",
              "      <td>1.515698</td>\n",
              "      <td>1.845722</td>\n",
              "      <td>4.907577</td>\n",
              "      <td>4.275686</td>\n",
              "      <td>3.400727</td>\n",
              "      <td>3.207209</td>\n",
              "      <td>4.130406</td>\n",
              "      <td>4.243171</td>\n",
              "      <td>2.897303</td>\n",
              "      <td>4.316485</td>\n",
              "      <td>4.366768</td>\n",
              "      <td>4.181874</td>\n",
              "      <td>4.482273</td>\n",
              "      <td>0.457719</td>\n",
              "    </tr>\n",
              "    <tr>\n",
              "      <th>min</th>\n",
              "      <td>2.000000</td>\n",
              "      <td>3.000000</td>\n",
              "      <td>3.000000</td>\n",
              "      <td>2.000000</td>\n",
              "      <td>6.000000</td>\n",
              "      <td>2.000000</td>\n",
              "      <td>4.000000</td>\n",
              "      <td>1.000000</td>\n",
              "      <td>3.000000</td>\n",
              "      <td>3.000000</td>\n",
              "      <td>2.000000</td>\n",
              "      <td>3.000000</td>\n",
              "      <td>3.000000</td>\n",
              "      <td>3.000000</td>\n",
              "      <td>2.000000</td>\n",
              "      <td>3.000000</td>\n",
              "      <td>3.000000</td>\n",
              "      <td>3.000000</td>\n",
              "      <td>3.000000</td>\n",
              "      <td>0.000000</td>\n",
              "    </tr>\n",
              "    <tr>\n",
              "      <th>25%</th>\n",
              "      <td>10.000000</td>\n",
              "      <td>11.000000</td>\n",
              "      <td>9.000000</td>\n",
              "      <td>6.000000</td>\n",
              "      <td>11.000000</td>\n",
              "      <td>6.000000</td>\n",
              "      <td>8.000000</td>\n",
              "      <td>1.000000</td>\n",
              "      <td>3.000000</td>\n",
              "      <td>5.000000</td>\n",
              "      <td>2.000000</td>\n",
              "      <td>11.000000</td>\n",
              "      <td>7.000000</td>\n",
              "      <td>3.000000</td>\n",
              "      <td>3.750000</td>\n",
              "      <td>6.750000</td>\n",
              "      <td>7.000000</td>\n",
              "      <td>5.000000</td>\n",
              "      <td>6.750000</td>\n",
              "      <td>0.000000</td>\n",
              "    </tr>\n",
              "    <tr>\n",
              "      <th>50%</th>\n",
              "      <td>10.000000</td>\n",
              "      <td>13.000000</td>\n",
              "      <td>11.000000</td>\n",
              "      <td>10.000000</td>\n",
              "      <td>15.000000</td>\n",
              "      <td>7.000000</td>\n",
              "      <td>9.000000</td>\n",
              "      <td>3.000000</td>\n",
              "      <td>7.000000</td>\n",
              "      <td>8.000000</td>\n",
              "      <td>4.000000</td>\n",
              "      <td>14.000000</td>\n",
              "      <td>11.000000</td>\n",
              "      <td>9.000000</td>\n",
              "      <td>6.500000</td>\n",
              "      <td>12.000000</td>\n",
              "      <td>12.000000</td>\n",
              "      <td>10.000000</td>\n",
              "      <td>11.000000</td>\n",
              "      <td>0.000000</td>\n",
              "    </tr>\n",
              "    <tr>\n",
              "      <th>75%</th>\n",
              "      <td>10.000000</td>\n",
              "      <td>15.000000</td>\n",
              "      <td>14.000000</td>\n",
              "      <td>10.000000</td>\n",
              "      <td>15.000000</td>\n",
              "      <td>8.000000</td>\n",
              "      <td>10.000000</td>\n",
              "      <td>5.000000</td>\n",
              "      <td>14.000000</td>\n",
              "      <td>13.000000</td>\n",
              "      <td>9.000000</td>\n",
              "      <td>15.000000</td>\n",
              "      <td>13.000000</td>\n",
              "      <td>11.250000</td>\n",
              "      <td>9.000000</td>\n",
              "      <td>14.250000</td>\n",
              "      <td>15.000000</td>\n",
              "      <td>13.000000</td>\n",
              "      <td>15.000000</td>\n",
              "      <td>1.000000</td>\n",
              "    </tr>\n",
              "    <tr>\n",
              "      <th>max</th>\n",
              "      <td>10.000000</td>\n",
              "      <td>15.000000</td>\n",
              "      <td>15.000000</td>\n",
              "      <td>10.000000</td>\n",
              "      <td>15.000000</td>\n",
              "      <td>10.000000</td>\n",
              "      <td>10.000000</td>\n",
              "      <td>5.000000</td>\n",
              "      <td>15.000000</td>\n",
              "      <td>15.000000</td>\n",
              "      <td>10.000000</td>\n",
              "      <td>15.000000</td>\n",
              "      <td>15.000000</td>\n",
              "      <td>15.000000</td>\n",
              "      <td>10.000000</td>\n",
              "      <td>15.000000</td>\n",
              "      <td>15.000000</td>\n",
              "      <td>15.000000</td>\n",
              "      <td>15.000000</td>\n",
              "      <td>1.000000</td>\n",
              "    </tr>\n",
              "  </tbody>\n",
              "</table>\n",
              "</div>\n",
              "      <button class=\"colab-df-convert\" onclick=\"convertToInteractive('df-dcb2e0ee-3796-4081-ba6c-8b0995dfa349')\"\n",
              "              title=\"Convert this dataframe to an interactive table.\"\n",
              "              style=\"display:none;\">\n",
              "        \n",
              "  <svg xmlns=\"http://www.w3.org/2000/svg\" height=\"24px\"viewBox=\"0 0 24 24\"\n",
              "       width=\"24px\">\n",
              "    <path d=\"M0 0h24v24H0V0z\" fill=\"none\"/>\n",
              "    <path d=\"M18.56 5.44l.94 2.06.94-2.06 2.06-.94-2.06-.94-.94-2.06-.94 2.06-2.06.94zm-11 1L8.5 8.5l.94-2.06 2.06-.94-2.06-.94L8.5 2.5l-.94 2.06-2.06.94zm10 10l.94 2.06.94-2.06 2.06-.94-2.06-.94-.94-2.06-.94 2.06-2.06.94z\"/><path d=\"M17.41 7.96l-1.37-1.37c-.4-.4-.92-.59-1.43-.59-.52 0-1.04.2-1.43.59L10.3 9.45l-7.72 7.72c-.78.78-.78 2.05 0 2.83L4 21.41c.39.39.9.59 1.41.59.51 0 1.02-.2 1.41-.59l7.78-7.78 2.81-2.81c.8-.78.8-2.07 0-2.86zM5.41 20L4 18.59l7.72-7.72 1.47 1.35L5.41 20z\"/>\n",
              "  </svg>\n",
              "      </button>\n",
              "      \n",
              "  <style>\n",
              "    .colab-df-container {\n",
              "      display:flex;\n",
              "      flex-wrap:wrap;\n",
              "      gap: 12px;\n",
              "    }\n",
              "\n",
              "    .colab-df-convert {\n",
              "      background-color: #E8F0FE;\n",
              "      border: none;\n",
              "      border-radius: 50%;\n",
              "      cursor: pointer;\n",
              "      display: none;\n",
              "      fill: #1967D2;\n",
              "      height: 32px;\n",
              "      padding: 0 0 0 0;\n",
              "      width: 32px;\n",
              "    }\n",
              "\n",
              "    .colab-df-convert:hover {\n",
              "      background-color: #E2EBFA;\n",
              "      box-shadow: 0px 1px 2px rgba(60, 64, 67, 0.3), 0px 1px 3px 1px rgba(60, 64, 67, 0.15);\n",
              "      fill: #174EA6;\n",
              "    }\n",
              "\n",
              "    [theme=dark] .colab-df-convert {\n",
              "      background-color: #3B4455;\n",
              "      fill: #D2E3FC;\n",
              "    }\n",
              "\n",
              "    [theme=dark] .colab-df-convert:hover {\n",
              "      background-color: #434B5C;\n",
              "      box-shadow: 0px 1px 3px 1px rgba(0, 0, 0, 0.15);\n",
              "      filter: drop-shadow(0px 1px 2px rgba(0, 0, 0, 0.3));\n",
              "      fill: #FFFFFF;\n",
              "    }\n",
              "  </style>\n",
              "\n",
              "      <script>\n",
              "        const buttonEl =\n",
              "          document.querySelector('#df-dcb2e0ee-3796-4081-ba6c-8b0995dfa349 button.colab-df-convert');\n",
              "        buttonEl.style.display =\n",
              "          google.colab.kernel.accessAllowed ? 'block' : 'none';\n",
              "\n",
              "        async function convertToInteractive(key) {\n",
              "          const element = document.querySelector('#df-dcb2e0ee-3796-4081-ba6c-8b0995dfa349');\n",
              "          const dataTable =\n",
              "            await google.colab.kernel.invokeFunction('convertToInteractive',\n",
              "                                                     [key], {});\n",
              "          if (!dataTable) return;\n",
              "\n",
              "          const docLinkHtml = 'Like what you see? Visit the ' +\n",
              "            '<a target=\"_blank\" href=https://colab.research.google.com/notebooks/data_table.ipynb>data table notebook</a>'\n",
              "            + ' to learn more about interactive tables.';\n",
              "          element.innerHTML = '';\n",
              "          dataTable['output_type'] = 'display_data';\n",
              "          await google.colab.output.renderOutput(dataTable, element);\n",
              "          const docLink = document.createElement('div');\n",
              "          docLink.innerHTML = docLinkHtml;\n",
              "          element.appendChild(docLink);\n",
              "        }\n",
              "      </script>\n",
              "    </div>\n",
              "  </div>\n",
              "  "
            ]
          },
          "metadata": {},
          "execution_count": 7
        }
      ],
      "source": [
        "df.describe()"
      ]
    },
    {
      "cell_type": "code",
      "execution_count": 8,
      "id": "52df3e70",
      "metadata": {
        "colab": {
          "base_uri": "https://localhost:8080/"
        },
        "id": "52df3e70",
        "outputId": "2521ffa6-57f6-4381-e478-27cef7d6c3ff"
      },
      "outputs": [
        {
          "output_type": "execute_result",
          "data": {
            "text/plain": [
              "False"
            ]
          },
          "metadata": {},
          "execution_count": 8
        }
      ],
      "source": [
        "df.isnull().any().any()"
      ]
    },
    {
      "cell_type": "code",
      "execution_count": 9,
      "id": "3f2a7f69",
      "metadata": {
        "colab": {
          "base_uri": "https://localhost:8080/",
          "height": 468
        },
        "id": "3f2a7f69",
        "outputId": "71bba25e-141f-4ea6-f77b-6312e56a0586"
      },
      "outputs": [
        {
          "output_type": "execute_result",
          "data": {
            "text/plain": [
              "<Axes: xlabel='ca_cervix', ylabel='count'>"
            ]
          },
          "metadata": {},
          "execution_count": 9
        },
        {
          "output_type": "display_data",
          "data": {
            "text/plain": [
              "<Figure size 640x480 with 1 Axes>"
            ],
            "image/png": "[encoded data removed]"
          },
          "metadata": {}
        }
      ],
      "source": [
        "import seaborn as sns\n",
        "sns.countplot(data=df, x='ca_cervix')"
      ]
    },
    {
      "cell_type": "code",
      "execution_count": 10,
      "id": "ed314713",
      "metadata": {
        "id": "ed314713"
      },
      "outputs": [],
      "source": [
        "y = df['ca_cervix']\n",
        "x = df.drop('ca_cervix', axis=1)"
      ]
    },
    {
      "cell_type": "code",
      "execution_count": 11,
      "id": "78ded3e4",
      "metadata": {
        "id": "78ded3e4"
      },
      "outputs": [],
      "source": [
        "x_train, x_test, y_train, y_test = train_test_split(x, y, test_size=0.7, random_state=2023)"
      ]
    },
    {
      "cell_type": "code",
      "source": [
        "from imblearn.over_sampling import RandomOverSampler\n",
        "\n",
        "# RandomOverSampler 객체 생성\n",
        "ros = RandomOverSampler(random_state=2023)\n",
        "\n",
        "# 오버샘플링 수행\n",
        "x_train_resampled, y_train_resampled = ros.fit_resample(x_train, y_train)\n",
        "\n",
        "# 오버샘플링 이후의 클래스 분포 확인\n",
        "print(\"오버샘플링 이전의 클래스 분포: \", y_train.value_counts())\n",
        "print(\"오버샘플링 이후의 클래스 분포: \", y_train_resampled.value_counts())"
      ],
      "metadata": {
        "colab": {
          "base_uri": "https://localhost:8080/"
        },
        "id": "NAfvCkvQ4O0H",
        "outputId": "67a799de-acca-4913-d7b3-3a01f7e5a597"
      },
      "id": "NAfvCkvQ4O0H",
      "execution_count": 12,
      "outputs": [
        {
          "output_type": "stream",
          "name": "stdout",
          "text": [
            "오버샘플링 이전의 클래스 분포:  0    17\n",
            "1     4\n",
            "Name: ca_cervix, dtype: int64\n",
            "오버샘플링 이후의 클래스 분포:  0    17\n",
            "1    17\n",
            "Name: ca_cervix, dtype: int64\n"
          ]
        }
      ]
    },
    {
      "cell_type": "code",
      "execution_count": 13,
      "id": "abeedfd9",
      "metadata": {
        "colab": {
          "base_uri": "https://localhost:8080/",
          "height": 75
        },
        "id": "abeedfd9",
        "outputId": "7eb01d87-8505-40ea-b2fd-8bb84d2d9c34"
      },
      "outputs": [
        {
          "output_type": "execute_result",
          "data": {
            "text/plain": [
              "DecisionTreeClassifier(random_state=2023)"
            ],
            "text/html": [
              "<style>#sk-container-id-1 {color: black;background-color: white;}#sk-container-id-1 pre{padding: 0;}#sk-container-id-1 div.sk-toggleable {background-color: white;}#sk-container-id-1 label.sk-toggleable__label {cursor: pointer;display: block;width: 100%;margin-bottom: 0;padding: 0.3em;box-sizing: border-box;text-align: center;}#sk-container-id-1 label.sk-toggleable__label-arrow:before {content: \"▸\";float: left;margin-right: 0.25em;color: #696969;}#sk-container-id-1 label.sk-toggleable__label-arrow:hover:before {color: black;}#sk-container-id-1 div.sk-estimator:hover label.sk-toggleable__label-arrow:before {color: black;}#sk-container-id-1 div.sk-toggleable__content {max-height: 0;max-width: 0;overflow: hidden;text-align: left;background-color: #f0f8ff;}#sk-container-id-1 div.sk-toggleable__content pre {margin: 0.2em;color: black;border-radius: 0.25em;background-color: #f0f8ff;}#sk-container-id-1 input.sk-toggleable__control:checked~div.sk-toggleable__content {max-height: 200px;max-width: 100%;overflow: auto;}#sk-container-id-1 input.sk-toggleable__control:checked~label.sk-toggleable__label-arrow:before {content: \"▾\";}#sk-container-id-1 div.sk-estimator input.sk-toggleable__control:checked~label.sk-toggleable__label {background-color: #d4ebff;}#sk-container-id-1 div.sk-label input.sk-toggleable__control:checked~label.sk-toggleable__label {background-color: #d4ebff;}#sk-container-id-1 input.sk-hidden--visually {border: 0;clip: rect(1px 1px 1px 1px);clip: rect(1px, 1px, 1px, 1px);height: 1px;margin: -1px;overflow: hidden;padding: 0;position: absolute;width: 1px;}#sk-container-id-1 div.sk-estimator {font-family: monospace;background-color: #f0f8ff;border: 1px dotted black;border-radius: 0.25em;box-sizing: border-box;margin-bottom: 0.5em;}#sk-container-id-1 div.sk-estimator:hover {background-color: #d4ebff;}#sk-container-id-1 div.sk-parallel-item::after {content: \"\";width: 100%;border-bottom: 1px solid gray;flex-grow: 1;}#sk-container-id-1 div.sk-label:hover label.sk-toggleable__label {background-color: #d4ebff;}#sk-container-id-1 div.sk-serial::before {content: \"\";position: absolute;border-left: 1px solid gray;box-sizing: border-box;top: 0;bottom: 0;left: 50%;z-index: 0;}#sk-container-id-1 div.sk-serial {display: flex;flex-direction: column;align-items: center;background-color: white;padding-right: 0.2em;padding-left: 0.2em;position: relative;}#sk-container-id-1 div.sk-item {position: relative;z-index: 1;}#sk-container-id-1 div.sk-parallel {display: flex;align-items: stretch;justify-content: center;background-color: white;position: relative;}#sk-container-id-1 div.sk-item::before, #sk-container-id-1 div.sk-parallel-item::before {content: \"\";position: absolute;border-left: 1px solid gray;box-sizing: border-box;top: 0;bottom: 0;left: 50%;z-index: -1;}#sk-container-id-1 div.sk-parallel-item {display: flex;flex-direction: column;z-index: 1;position: relative;background-color: white;}#sk-container-id-1 div.sk-parallel-item:first-child::after {align-self: flex-end;width: 50%;}#sk-container-id-1 div.sk-parallel-item:last-child::after {align-self: flex-start;width: 50%;}#sk-container-id-1 div.sk-parallel-item:only-child::after {width: 0;}#sk-container-id-1 div.sk-dashed-wrapped {border: 1px dashed gray;margin: 0 0.4em 0.5em 0.4em;box-sizing: border-box;padding-bottom: 0.4em;background-color: white;}#sk-container-id-1 div.sk-label label {font-family: monospace;font-weight: bold;display: inline-block;line-height: 1.2em;}#sk-container-id-1 div.sk-label-container {text-align: center;}#sk-container-id-1 div.sk-container {/* jupyter's `normalize.less` sets `[hidden] { display: none; }` but bootstrap.min.css set `[hidden] { display: none !important; }` so we also need the `!important` here to be able to override the default hidden behavior on the sphinx rendered scikit-learn.org. See: https://github.com/scikit-learn/scikit-learn/issues/21755 */display: inline-block !important;position: relative;}#sk-container-id-1 div.sk-text-repr-fallback {display: none;}</style><div id=\"sk-container-id-1\" class=\"sk-top-container\"><div class=\"sk-text-repr-fallback\"><pre>DecisionTreeClassifier(random_state=2023)</pre><b>In a Jupyter environment, please rerun this cell to show the HTML representation or trust the notebook. <br />On GitHub, the HTML representation is unable to render, please try loading this page with nbviewer.org.</b></div><div class=\"sk-container\" hidden><div class=\"sk-item\"><div class=\"sk-estimator sk-toggleable\"><input class=\"sk-toggleable__control sk-hidden--visually\" id=\"sk-estimator-id-1\" type=\"checkbox\" checked><label for=\"sk-estimator-id-1\" class=\"sk-toggleable__label sk-toggleable__label-arrow\">DecisionTreeClassifier</label><div class=\"sk-toggleable__content\"><pre>DecisionTreeClassifier(random_state=2023)</pre></div></div></div></div></div>"
            ]
          },
          "metadata": {},
          "execution_count": 13
        }
      ],
      "source": [
        "dt_clf = DecisionTreeClassifier(random_state=2023)\n",
        "dt_clf.fit(x_train_resampled, y_train_resampled) # 학습"
      ]
    },
    {
      "cell_type": "code",
      "execution_count": 14,
      "id": "25fb94a8",
      "metadata": {
        "id": "25fb94a8"
      },
      "outputs": [],
      "source": [
        "feature_names = x.columns"
      ]
    },
    {
      "cell_type": "code",
      "execution_count": 15,
      "id": "7bc7880a",
      "metadata": {
        "id": "7bc7880a"
      },
      "outputs": [],
      "source": [
        "# export_graphviz( )의 호출 결과로 out_file로 지정된 tree.dot 파일을 생성\n",
        "export_graphviz(dt_clf, out_file=\"tree.dot\", class_names = ['자궁경부암 없음','자궁경부암 있음'], feature_names = feature_names, impurity=True, filled=True)"
      ]
    },
    {
      "cell_type": "code",
      "execution_count": 16,
      "id": "0e9c586b",
      "metadata": {
        "colab": {
          "base_uri": "https://localhost:8080/",
          "height": 458
        },
        "id": "0e9c586b",
        "outputId": "75abf24f-dabd-47df-ccb4-f334920bb7e2"
      },
      "outputs": [
        {
          "output_type": "stream",
          "name": "stdout",
          "text": [
            "[ max_depth의 제약이 없는 경우의 Decision Tree 시각화 ]\n"
          ]
        },
        {
          "output_type": "execute_result",
          "data": {
            "image/svg+xml": "<?xml version=\"1.0\" encoding=\"UTF-8\" standalone=\"no\"?>\n<!DOCTYPE svg PUBLIC \"-//W3C//DTD SVG 1.1//EN\"\n \"http://www.w3.org/Graphics/SVG/1.1/DTD/svg11.dtd\">\n<!-- Generated by graphviz version 2.43.0 (0)\n -->\n<!-- Title: Tree Pages: 1 -->\n<svg width=\"452pt\" height=\"314pt\"\n viewBox=\"0.00 0.00 452.00 314.00\" xmlns=\"http://www.w3.org/2000/svg\" xmlns:xlink=\"http://www.w3.org/1999/xlink\">\n<g id=\"graph0\" class=\"graph\" transform=\"scale(1 1) rotate(0) translate(4 310)\">\n<title>Tree</title>\n<polygon fill=\"white\" stroke=\"transparent\" points=\"-4,4 -4,-310 448,-310 448,4 -4,4\"/>\n<!-- 0 -->\n<g id=\"node1\" class=\"node\">\n<title>0</title>\n<polygon fill=\"#ffffff\" stroke=\"black\" points=\"367,-306 168,-306 168,-223 367,-223 367,-306\"/>\n<text text-anchor=\"middle\" x=\"267.5\" y=\"-290.8\" font-family=\"Helvetica,sans-Serif\" font-size=\"14.00\">empowerment_abilities &lt;= 9.5</text>\n<text text-anchor=\"middle\" x=\"267.5\" y=\"-275.8\" font-family=\"Helvetica,sans-Serif\" font-size=\"14.00\">gini = 0.5</text>\n<text text-anchor=\"middle\" x=\"267.5\" y=\"-260.8\" font-family=\"Helvetica,sans-Serif\" font-size=\"14.00\">samples = 34</text>\n<text text-anchor=\"middle\" x=\"267.5\" y=\"-245.8\" font-family=\"Helvetica,sans-Serif\" font-size=\"14.00\">value = [17, 17]</text>\n<text text-anchor=\"middle\" x=\"267.5\" y=\"-230.8\" font-family=\"Helvetica,sans-Serif\" font-size=\"14.00\">class = 자궁경부암 없음</text>\n</g>\n<!-- 1 -->\n<g id=\"node2\" class=\"node\">\n<title>1</title>\n<polygon fill=\"#68b4eb\" stroke=\"black\" points=\"259,-187 92,-187 92,-104 259,-104 259,-187\"/>\n<text text-anchor=\"middle\" x=\"175.5\" y=\"-171.8\" font-family=\"Helvetica,sans-Serif\" font-size=\"14.00\">norm_fulfillment &lt;= 9.5</text>\n<text text-anchor=\"middle\" x=\"175.5\" y=\"-156.8\" font-family=\"Helvetica,sans-Serif\" font-size=\"14.00\">gini = 0.308</text>\n<text text-anchor=\"middle\" x=\"175.5\" y=\"-141.8\" font-family=\"Helvetica,sans-Serif\" font-size=\"14.00\">samples = 21</text>\n<text text-anchor=\"middle\" x=\"175.5\" y=\"-126.8\" font-family=\"Helvetica,sans-Serif\" font-size=\"14.00\">value = [4, 17]</text>\n<text text-anchor=\"middle\" x=\"175.5\" y=\"-111.8\" font-family=\"Helvetica,sans-Serif\" font-size=\"14.00\">class = 자궁경부암 있음</text>\n</g>\n<!-- 0&#45;&gt;1 -->\n<g id=\"edge1\" class=\"edge\">\n<title>0&#45;&gt;1</title>\n<path fill=\"none\" stroke=\"black\" d=\"M235.58,-222.91C228.52,-213.92 220.96,-204.32 213.68,-195.05\"/>\n<polygon fill=\"black\" stroke=\"black\" points=\"216.3,-192.72 207.36,-187.02 210.79,-197.05 216.3,-192.72\"/>\n<text text-anchor=\"middle\" x=\"204.39\" y=\"-208.14\" font-family=\"Helvetica,sans-Serif\" font-size=\"14.00\">True</text>\n</g>\n<!-- 4 -->\n<g id=\"node5\" class=\"node\">\n<title>4</title>\n<polygon fill=\"#e58139\" stroke=\"black\" points=\"444,-179.5 277,-179.5 277,-111.5 444,-111.5 444,-179.5\"/>\n<text text-anchor=\"middle\" x=\"360.5\" y=\"-164.3\" font-family=\"Helvetica,sans-Serif\" font-size=\"14.00\">gini = 0.0</text>\n<text text-anchor=\"middle\" x=\"360.5\" y=\"-149.3\" font-family=\"Helvetica,sans-Serif\" font-size=\"14.00\">samples = 13</text>\n<text text-anchor=\"middle\" x=\"360.5\" y=\"-134.3\" font-family=\"Helvetica,sans-Serif\" font-size=\"14.00\">value = [13, 0]</text>\n<text text-anchor=\"middle\" x=\"360.5\" y=\"-119.3\" font-family=\"Helvetica,sans-Serif\" font-size=\"14.00\">class = 자궁경부암 없음</text>\n</g>\n<!-- 0&#45;&gt;4 -->\n<g id=\"edge4\" class=\"edge\">\n<title>0&#45;&gt;4</title>\n<path fill=\"none\" stroke=\"black\" d=\"M299.77,-222.91C308.8,-211.54 318.63,-199.18 327.69,-187.77\"/>\n<polygon fill=\"black\" stroke=\"black\" points=\"330.65,-189.67 334.14,-179.67 325.17,-185.32 330.65,-189.67\"/>\n<text text-anchor=\"middle\" x=\"336.98\" y=\"-200.81\" font-family=\"Helvetica,sans-Serif\" font-size=\"14.00\">False</text>\n</g>\n<!-- 2 -->\n<g id=\"node3\" class=\"node\">\n<title>2</title>\n<polygon fill=\"#399de5\" stroke=\"black\" points=\"167,-68 0,-68 0,0 167,0 167,-68\"/>\n<text text-anchor=\"middle\" x=\"83.5\" y=\"-52.8\" font-family=\"Helvetica,sans-Serif\" font-size=\"14.00\">gini = 0.0</text>\n<text text-anchor=\"middle\" x=\"83.5\" y=\"-37.8\" font-family=\"Helvetica,sans-Serif\" font-size=\"14.00\">samples = 17</text>\n<text text-anchor=\"middle\" x=\"83.5\" y=\"-22.8\" font-family=\"Helvetica,sans-Serif\" font-size=\"14.00\">value = [0, 17]</text>\n<text text-anchor=\"middle\" x=\"83.5\" y=\"-7.8\" font-family=\"Helvetica,sans-Serif\" font-size=\"14.00\">class = 자궁경부암 있음</text>\n</g>\n<!-- 1&#45;&gt;2 -->\n<g id=\"edge2\" class=\"edge\">\n<title>1&#45;&gt;2</title>\n<path fill=\"none\" stroke=\"black\" d=\"M141.24,-103.73C133.66,-94.7 125.61,-85.12 118.02,-76.08\"/>\n<polygon fill=\"black\" stroke=\"black\" points=\"120.59,-73.7 111.48,-68.3 115.23,-78.21 120.59,-73.7\"/>\n</g>\n<!-- 3 -->\n<g id=\"node4\" class=\"node\">\n<title>3</title>\n<polygon fill=\"#e58139\" stroke=\"black\" points=\"352,-68 185,-68 185,0 352,0 352,-68\"/>\n<text text-anchor=\"middle\" x=\"268.5\" y=\"-52.8\" font-family=\"Helvetica,sans-Serif\" font-size=\"14.00\">gini = 0.0</text>\n<text text-anchor=\"middle\" x=\"268.5\" y=\"-37.8\" font-family=\"Helvetica,sans-Serif\" font-size=\"14.00\">samples = 4</text>\n<text text-anchor=\"middle\" x=\"268.5\" y=\"-22.8\" font-family=\"Helvetica,sans-Serif\" font-size=\"14.00\">value = [4, 0]</text>\n<text text-anchor=\"middle\" x=\"268.5\" y=\"-7.8\" font-family=\"Helvetica,sans-Serif\" font-size=\"14.00\">class = 자궁경부암 없음</text>\n</g>\n<!-- 1&#45;&gt;3 -->\n<g id=\"edge3\" class=\"edge\">\n<title>1&#45;&gt;3</title>\n<path fill=\"none\" stroke=\"black\" d=\"M210.13,-103.73C217.8,-94.7 225.93,-85.12 233.61,-76.08\"/>\n<polygon fill=\"black\" stroke=\"black\" points=\"236.41,-78.19 240.22,-68.3 231.08,-73.66 236.41,-78.19\"/>\n</g>\n</g>\n</svg>\n",
            "text/plain": [
              "<graphviz.sources.Source at 0x7efe31511a50>"
            ]
          },
          "metadata": {},
          "execution_count": 16
        }
      ],
      "source": [
        "print('[ max_depth의 제약이 없는 경우의 Decision Tree 시각화 ]')\n",
        "# 위에서 생성된 tree.dot 파일을 Graphiviz 가 읽어서 시각화\n",
        "with open(\"tree.dot\") as f:\n",
        "    dot_graph = f.read()\n",
        "graphviz.Source(dot_graph)"
      ]
    },
    {
      "cell_type": "code",
      "execution_count": 17,
      "id": "013f8d8e",
      "metadata": {
        "id": "013f8d8e"
      },
      "outputs": [],
      "source": [
        "y_pred = dt_clf.predict(x_test) "
      ]
    },
    {
      "cell_type": "code",
      "execution_count": 18,
      "id": "02e18d11",
      "metadata": {
        "colab": {
          "base_uri": "https://localhost:8080/"
        },
        "id": "02e18d11",
        "outputId": "86dad23a-8fa6-4ec4-f141-a7746499afcd"
      },
      "outputs": [
        {
          "output_type": "stream",
          "name": "stdout",
          "text": [
            "Train_Accuracy :  1.0 \n",
            "\n",
            "Test_Accuracy :  0.8431372549019608 \n",
            "\n",
            "Accuracy:  0.84 \n",
            "\n",
            "Recall:  0.71 \n",
            "\n",
            "Precision:  0.80 \n",
            "\n",
            "F1_score:  0.75 \n",
            "\n",
            "Confusion Matrix: \n",
            " [[31  3]\n",
            " [ 5 12]]\n"
          ]
        }
      ],
      "source": [
        "# 학습결과 평가\n",
        "print(\"Train_Accuracy : \", dt_clf.score(x_train_resampled, y_train_resampled), '\\n')\n",
        "print(\"Test_Accuracy : \", dt_clf.score(x_test, y_test), '\\n')\n",
        "\n",
        "accuracy = mt.accuracy_score(y_test, y_pred)\n",
        "recall = mt.recall_score(y_test, y_pred)\n",
        "precision = mt.precision_score(y_test, y_pred)\n",
        "f1_score = mt.f1_score(y_test, y_pred)\n",
        "matrix = mt.confusion_matrix(y_test, y_pred)\n",
        "\n",
        "print('Accuracy: ', format(accuracy,'.2f'),'\\n')\n",
        "print('Recall: ', format(recall,'.2f'),'\\n')\n",
        "print('Precision: ', format(precision,'.2f'),'\\n')\n",
        "print('F1_score: ', format(f1_score,'.2f'),'\\n')\n",
        "print('Confusion Matrix:','\\n', matrix)"
      ]
    },
    {
      "cell_type": "code",
      "execution_count": 19,
      "id": "79587c7c",
      "metadata": {
        "colab": {
          "base_uri": "https://localhost:8080/"
        },
        "id": "79587c7c",
        "outputId": "bee248a1-7bac-4d23-8cb3-e2dc8fb31500"
      },
      "outputs": [
        {
          "output_type": "stream",
          "name": "stdout",
          "text": [
            "Averaged results of cross validation:  0.8495238095238096\n"
          ]
        }
      ],
      "source": [
        "# 교차검증\n",
        "\n",
        "# 각 폴드의 스코어 \n",
        "scores = cross_val_score(dt_clf, x, y, cv = 5)\n",
        "\n",
        "print('Averaged results of cross validation: ', scores.mean())"
      ]
    },
    {
      "cell_type": "code",
      "execution_count": 20,
      "id": "2a1dfe8d",
      "metadata": {
        "colab": {
          "base_uri": "https://localhost:8080/",
          "height": 206
        },
        "id": "2a1dfe8d",
        "outputId": "90d95b6f-f1af-4e5f-8035-19db865e8a2f"
      },
      "outputs": [
        {
          "output_type": "execute_result",
          "data": {
            "text/plain": [
              "   fit_time  score_time  test_score\n",
              "0  0.004098    0.002613    0.866667\n",
              "1  0.010324    0.002698    0.666667\n",
              "2  0.009529    0.002783    0.857143\n",
              "3  0.008332    0.002640    1.000000\n",
              "4  0.004612    0.002572    0.857143"
            ],
            "text/html": [
              "\n",
              "  <div id=\"df-02b20418-09cb-4399-8678-de45ec653db7\">\n",
              "    <div class=\"colab-df-container\">\n",
              "      <div>\n",
              "<style scoped>\n",
              "    .dataframe tbody tr th:only-of-type {\n",
              "        vertical-align: middle;\n",
              "    }\n",
              "\n",
              "    .dataframe tbody tr th {\n",
              "        vertical-align: top;\n",
              "    }\n",
              "\n",
              "    .dataframe thead th {\n",
              "        text-align: right;\n",
              "    }\n",
              "</style>\n",
              "<table border=\"1\" class=\"dataframe\">\n",
              "  <thead>\n",
              "    <tr style=\"text-align: right;\">\n",
              "      <th></th>\n",
              "      <th>fit_time</th>\n",
              "      <th>score_time</th>\n",
              "      <th>test_score</th>\n",
              "    </tr>\n",
              "  </thead>\n",
              "  <tbody>\n",
              "    <tr>\n",
              "      <th>0</th>\n",
              "      <td>0.004098</td>\n",
              "      <td>0.002613</td>\n",
              "      <td>0.866667</td>\n",
              "    </tr>\n",
              "    <tr>\n",
              "      <th>1</th>\n",
              "      <td>0.010324</td>\n",
              "      <td>0.002698</td>\n",
              "      <td>0.666667</td>\n",
              "    </tr>\n",
              "    <tr>\n",
              "      <th>2</th>\n",
              "      <td>0.009529</td>\n",
              "      <td>0.002783</td>\n",
              "      <td>0.857143</td>\n",
              "    </tr>\n",
              "    <tr>\n",
              "      <th>3</th>\n",
              "      <td>0.008332</td>\n",
              "      <td>0.002640</td>\n",
              "      <td>1.000000</td>\n",
              "    </tr>\n",
              "    <tr>\n",
              "      <th>4</th>\n",
              "      <td>0.004612</td>\n",
              "      <td>0.002572</td>\n",
              "      <td>0.857143</td>\n",
              "    </tr>\n",
              "  </tbody>\n",
              "</table>\n",
              "</div>\n",
              "      <button class=\"colab-df-convert\" onclick=\"convertToInteractive('df-02b20418-09cb-4399-8678-de45ec653db7')\"\n",
              "              title=\"Convert this dataframe to an interactive table.\"\n",
              "              style=\"display:none;\">\n",
              "        \n",
              "  <svg xmlns=\"http://www.w3.org/2000/svg\" height=\"24px\"viewBox=\"0 0 24 24\"\n",
              "       width=\"24px\">\n",
              "    <path d=\"M0 0h24v24H0V0z\" fill=\"none\"/>\n",
              "    <path d=\"M18.56 5.44l.94 2.06.94-2.06 2.06-.94-2.06-.94-.94-2.06-.94 2.06-2.06.94zm-11 1L8.5 8.5l.94-2.06 2.06-.94-2.06-.94L8.5 2.5l-.94 2.06-2.06.94zm10 10l.94 2.06.94-2.06 2.06-.94-2.06-.94-.94-2.06-.94 2.06-2.06.94z\"/><path d=\"M17.41 7.96l-1.37-1.37c-.4-.4-.92-.59-1.43-.59-.52 0-1.04.2-1.43.59L10.3 9.45l-7.72 7.72c-.78.78-.78 2.05 0 2.83L4 21.41c.39.39.9.59 1.41.59.51 0 1.02-.2 1.41-.59l7.78-7.78 2.81-2.81c.8-.78.8-2.07 0-2.86zM5.41 20L4 18.59l7.72-7.72 1.47 1.35L5.41 20z\"/>\n",
              "  </svg>\n",
              "      </button>\n",
              "      \n",
              "  <style>\n",
              "    .colab-df-container {\n",
              "      display:flex;\n",
              "      flex-wrap:wrap;\n",
              "      gap: 12px;\n",
              "    }\n",
              "\n",
              "    .colab-df-convert {\n",
              "      background-color: #E8F0FE;\n",
              "      border: none;\n",
              "      border-radius: 50%;\n",
              "      cursor: pointer;\n",
              "      display: none;\n",
              "      fill: #1967D2;\n",
              "      height: 32px;\n",
              "      padding: 0 0 0 0;\n",
              "      width: 32px;\n",
              "    }\n",
              "\n",
              "    .colab-df-convert:hover {\n",
              "      background-color: #E2EBFA;\n",
              "      box-shadow: 0px 1px 2px rgba(60, 64, 67, 0.3), 0px 1px 3px 1px rgba(60, 64, 67, 0.15);\n",
              "      fill: #174EA6;\n",
              "    }\n",
              "\n",
              "    [theme=dark] .colab-df-convert {\n",
              "      background-color: #3B4455;\n",
              "      fill: #D2E3FC;\n",
              "    }\n",
              "\n",
              "    [theme=dark] .colab-df-convert:hover {\n",
              "      background-color: #434B5C;\n",
              "      box-shadow: 0px 1px 3px 1px rgba(0, 0, 0, 0.15);\n",
              "      filter: drop-shadow(0px 1px 2px rgba(0, 0, 0, 0.3));\n",
              "      fill: #FFFFFF;\n",
              "    }\n",
              "  </style>\n",
              "\n",
              "      <script>\n",
              "        const buttonEl =\n",
              "          document.querySelector('#df-02b20418-09cb-4399-8678-de45ec653db7 button.colab-df-convert');\n",
              "        buttonEl.style.display =\n",
              "          google.colab.kernel.accessAllowed ? 'block' : 'none';\n",
              "\n",
              "        async function convertToInteractive(key) {\n",
              "          const element = document.querySelector('#df-02b20418-09cb-4399-8678-de45ec653db7');\n",
              "          const dataTable =\n",
              "            await google.colab.kernel.invokeFunction('convertToInteractive',\n",
              "                                                     [key], {});\n",
              "          if (!dataTable) return;\n",
              "\n",
              "          const docLinkHtml = 'Like what you see? Visit the ' +\n",
              "            '<a target=\"_blank\" href=https://colab.research.google.com/notebooks/data_table.ipynb>data table notebook</a>'\n",
              "            + ' to learn more about interactive tables.';\n",
              "          element.innerHTML = '';\n",
              "          dataTable['output_type'] = 'display_data';\n",
              "          await google.colab.output.renderOutput(dataTable, element);\n",
              "          const docLink = document.createElement('div');\n",
              "          docLink.innerHTML = docLinkHtml;\n",
              "          element.appendChild(docLink);\n",
              "        }\n",
              "      </script>\n",
              "    </div>\n",
              "  </div>\n",
              "  "
            ]
          },
          "metadata": {},
          "execution_count": 20
        }
      ],
      "source": [
        "pd.DataFrame(cross_validate(dt_clf, x, y, cv =5))"
      ]
    },
    {
      "cell_type": "code",
      "execution_count": 21,
      "id": "0f16d10a",
      "metadata": {
        "colab": {
          "base_uri": "https://localhost:8080/"
        },
        "id": "0f16d10a",
        "outputId": "5ad83752-e78d-4952-a312-6292f408809a"
      },
      "outputs": [
        {
          "output_type": "execute_result",
          "data": {
            "text/plain": [
              "0.8431372549019608"
            ]
          },
          "metadata": {},
          "execution_count": 21
        }
      ],
      "source": [
        "# test set에 대한 스코어(정확도)\n",
        "dt_clf.score(x_test, y_test)\n"
      ]
    },
    {
      "cell_type": "code",
      "execution_count": 22,
      "id": "065ea867",
      "metadata": {
        "id": "065ea867"
      },
      "outputs": [],
      "source": []
    }
  ],
  "metadata": {
    "kernelspec": {
      "display_name": "Python 3 (ipykernel)",
      "language": "python",
      "name": "python3"
    },
    "language_info": {
      "codemirror_mode": {
        "name": "ipython",
        "version": 3
      },
      "file_extension": ".py",
      "mimetype": "text/x-python",
      "name": "python",
      "nbconvert_exporter": "python",
      "pygments_lexer": "ipython3",
      "version": "3.9.12"
    },
    "colab": {
      "provenance": [],
      "include_colab_link": true
    }
  },
  "nbformat": 4,
  "nbformat_minor": 5
}